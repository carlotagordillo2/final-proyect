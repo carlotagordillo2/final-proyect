{
 "cells": [
  {
   "cell_type": "markdown",
   "metadata": {},
   "source": [
    "## Libraries"
   ]
  },
  {
   "cell_type": "code",
   "execution_count": 165,
   "metadata": {},
   "outputs": [],
   "source": [
    "import pandas as pd\n",
    "import numpy as np\n",
    "import seaborn as sns\n",
    "import matplotlib.pyplot as plt\n",
    "import aux_functions as f"
   ]
  },
  {
   "cell_type": "markdown",
   "metadata": {},
   "source": [
    "## 0. Import data"
   ]
  },
  {
   "cell_type": "markdown",
   "metadata": {},
   "source": [
    "![Descripción de la imagen](../Datasets/diagrama_entidad_relacion.png)"
   ]
  },
  {
   "cell_type": "code",
   "execution_count": 166,
   "metadata": {},
   "outputs": [],
   "source": [
    "df_customer = pd.read_csv(\"../Datasets/customers_1.txt\")\n",
    "df_employees = pd.read_csv(\"../Datasets/employees_1.txt\")\n",
    "df_inventory = pd.read_csv(\"../Datasets/inventory_transactions_1.txt\")\n",
    "df_order_details = pd.read_csv(\"../Datasets/order_details_1.txt\")\n",
    "df_orders = pd.read_csv(\"../Datasets/orders_1.txt\")\n",
    "df_payment_methods = pd.read_csv(\"../Datasets/payment_methods_1.txt\")\n",
    "df_payments = pd.read_csv(\"../Datasets/payments_1.txt\")\n",
    "df_products = pd.read_csv(\"../Datasets/products_1.txt\")\n",
    "df_purchase_orders = pd.read_csv(\"../Datasets/purchase_orders_1.txt\")\n",
    "df_shipping_methods = pd.read_csv(\"../Datasets/shipping_methods_1.txt\")\n",
    "df_suppliers = pd.read_csv(\"../Datasets/suppliers_1.txt\")"
   ]
  },
  {
   "cell_type": "markdown",
   "metadata": {},
   "source": [
    "## 1. Cleaning and review"
   ]
  },
  {
   "cell_type": "markdown",
   "metadata": {},
   "source": [
    "### 1.1 Customers"
   ]
  },
  {
   "cell_type": "markdown",
   "metadata": {},
   "source": [
    "Summary:\n",
    "- There are 225 customer\n",
    "- Origin: Russian Federation and Belarus. Specially, from 87 regions.\n",
    "- These customers can be classified by: Price Category (there are 7; 1-7), Customer Class ('Large-Scale Wholesaler-1', 'Consumer', 'Retailer',\n",
    "       'Small-Scale Wholesaler', 'Large-Scale Wholesaler-2', 'Branch',\n",
    "       'HyPermarket'), Lead Source ('Referral by the Central Office', 'Other',\n",
    "       'Advertisement in National Wholesale Magazine',\n",
    "       'Sales Calls or Visits', 'Trade Shows',\n",
    "       'Referral by Third Parties', nan, 'Organic Search',\n",
    "       'Advertisement in Regional Wholesaler Magazine') and if they are continued or not"
   ]
  },
  {
   "cell_type": "markdown",
   "metadata": {},
   "source": [
    "No se si eliminar los que tienen valores nulos en leadSource (son 4)"
   ]
  },
  {
   "cell_type": "code",
   "execution_count": 167,
   "metadata": {},
   "outputs": [
    {
     "data": {
      "text/html": [
       "<div>\n",
       "<style scoped>\n",
       "    .dataframe tbody tr th:only-of-type {\n",
       "        vertical-align: middle;\n",
       "    }\n",
       "\n",
       "    .dataframe tbody tr th {\n",
       "        vertical-align: top;\n",
       "    }\n",
       "\n",
       "    .dataframe thead th {\n",
       "        text-align: right;\n",
       "    }\n",
       "</style>\n",
       "<table border=\"1\" class=\"dataframe\">\n",
       "  <thead>\n",
       "    <tr style=\"text-align: right;\">\n",
       "      <th></th>\n",
       "      <th>CustomerID</th>\n",
       "      <th>CustomerName</th>\n",
       "      <th>Region</th>\n",
       "      <th>Country</th>\n",
       "      <th>PriceCategory</th>\n",
       "      <th>CustomerClass</th>\n",
       "      <th>LeadSource</th>\n",
       "      <th>Discontinued</th>\n",
       "    </tr>\n",
       "  </thead>\n",
       "  <tbody>\n",
       "    <tr>\n",
       "      <th>0</th>\n",
       "      <td>1</td>\n",
       "      <td>C1</td>\n",
       "      <td>Moscow</td>\n",
       "      <td>Russian Federation</td>\n",
       "      <td>1</td>\n",
       "      <td>Large-Scale Wholesaler-1</td>\n",
       "      <td>Referral by the Central Office</td>\n",
       "      <td>0</td>\n",
       "    </tr>\n",
       "    <tr>\n",
       "      <th>1</th>\n",
       "      <td>2</td>\n",
       "      <td>C2</td>\n",
       "      <td>Moscow</td>\n",
       "      <td>Russian Federation</td>\n",
       "      <td>1</td>\n",
       "      <td>Large-Scale Wholesaler-1</td>\n",
       "      <td>Referral by the Central Office</td>\n",
       "      <td>0</td>\n",
       "    </tr>\n",
       "    <tr>\n",
       "      <th>2</th>\n",
       "      <td>3</td>\n",
       "      <td>C3</td>\n",
       "      <td>Moscow</td>\n",
       "      <td>Russian Federation</td>\n",
       "      <td>1</td>\n",
       "      <td>Large-Scale Wholesaler-1</td>\n",
       "      <td>Referral by the Central Office</td>\n",
       "      <td>1</td>\n",
       "    </tr>\n",
       "    <tr>\n",
       "      <th>3</th>\n",
       "      <td>4</td>\n",
       "      <td>C4</td>\n",
       "      <td>Moscow</td>\n",
       "      <td>Russian Federation</td>\n",
       "      <td>4</td>\n",
       "      <td>Large-Scale Wholesaler-1</td>\n",
       "      <td>Referral by the Central Office</td>\n",
       "      <td>1</td>\n",
       "    </tr>\n",
       "    <tr>\n",
       "      <th>4</th>\n",
       "      <td>5</td>\n",
       "      <td>C5</td>\n",
       "      <td>Moscow</td>\n",
       "      <td>Russian Federation</td>\n",
       "      <td>1</td>\n",
       "      <td>Large-Scale Wholesaler-1</td>\n",
       "      <td>Referral by the Central Office</td>\n",
       "      <td>0</td>\n",
       "    </tr>\n",
       "    <tr>\n",
       "      <th>...</th>\n",
       "      <td>...</td>\n",
       "      <td>...</td>\n",
       "      <td>...</td>\n",
       "      <td>...</td>\n",
       "      <td>...</td>\n",
       "      <td>...</td>\n",
       "      <td>...</td>\n",
       "      <td>...</td>\n",
       "    </tr>\n",
       "    <tr>\n",
       "      <th>220</th>\n",
       "      <td>243</td>\n",
       "      <td>C221</td>\n",
       "      <td>Vologda</td>\n",
       "      <td>Russian Federation</td>\n",
       "      <td>4</td>\n",
       "      <td>Small-Scale Wholesaler</td>\n",
       "      <td>Advertisement in National Wholesale Magazine</td>\n",
       "      <td>0</td>\n",
       "    </tr>\n",
       "    <tr>\n",
       "      <th>221</th>\n",
       "      <td>244</td>\n",
       "      <td>C222</td>\n",
       "      <td>Yakutsk</td>\n",
       "      <td>Russian Federation</td>\n",
       "      <td>4</td>\n",
       "      <td>Small-Scale Wholesaler</td>\n",
       "      <td>Advertisement in National Wholesale Magazine</td>\n",
       "      <td>0</td>\n",
       "    </tr>\n",
       "    <tr>\n",
       "      <th>222</th>\n",
       "      <td>245</td>\n",
       "      <td>C223</td>\n",
       "      <td>Nizhny Novgorod</td>\n",
       "      <td>Russian Federation</td>\n",
       "      <td>5</td>\n",
       "      <td>Retailer</td>\n",
       "      <td>Sales Calls or Visits</td>\n",
       "      <td>0</td>\n",
       "    </tr>\n",
       "    <tr>\n",
       "      <th>223</th>\n",
       "      <td>246</td>\n",
       "      <td>C224</td>\n",
       "      <td>Kemerovo</td>\n",
       "      <td>Russian Federation</td>\n",
       "      <td>4</td>\n",
       "      <td>Small-Scale Wholesaler</td>\n",
       "      <td>Sales Calls or Visits</td>\n",
       "      <td>0</td>\n",
       "    </tr>\n",
       "    <tr>\n",
       "      <th>224</th>\n",
       "      <td>247</td>\n",
       "      <td>C225</td>\n",
       "      <td>Moscow</td>\n",
       "      <td>Russian Federation</td>\n",
       "      <td>4</td>\n",
       "      <td>Small-Scale Wholesaler</td>\n",
       "      <td>Sales Calls or Visits</td>\n",
       "      <td>0</td>\n",
       "    </tr>\n",
       "  </tbody>\n",
       "</table>\n",
       "<p>225 rows × 8 columns</p>\n",
       "</div>"
      ],
      "text/plain": [
       "     CustomerID CustomerName           Region             Country  \\\n",
       "0             1           C1           Moscow  Russian Federation   \n",
       "1             2           C2           Moscow  Russian Federation   \n",
       "2             3           C3           Moscow  Russian Federation   \n",
       "3             4           C4           Moscow  Russian Federation   \n",
       "4             5           C5           Moscow  Russian Federation   \n",
       "..          ...          ...              ...                 ...   \n",
       "220         243         C221          Vologda  Russian Federation   \n",
       "221         244         C222          Yakutsk  Russian Federation   \n",
       "222         245         C223  Nizhny Novgorod  Russian Federation   \n",
       "223         246         C224         Kemerovo  Russian Federation   \n",
       "224         247         C225           Moscow  Russian Federation   \n",
       "\n",
       "     PriceCategory             CustomerClass  \\\n",
       "0                1  Large-Scale Wholesaler-1   \n",
       "1                1  Large-Scale Wholesaler-1   \n",
       "2                1  Large-Scale Wholesaler-1   \n",
       "3                4  Large-Scale Wholesaler-1   \n",
       "4                1  Large-Scale Wholesaler-1   \n",
       "..             ...                       ...   \n",
       "220              4    Small-Scale Wholesaler   \n",
       "221              4    Small-Scale Wholesaler   \n",
       "222              5                  Retailer   \n",
       "223              4    Small-Scale Wholesaler   \n",
       "224              4    Small-Scale Wholesaler   \n",
       "\n",
       "                                       LeadSource  Discontinued  \n",
       "0                  Referral by the Central Office             0  \n",
       "1                  Referral by the Central Office             0  \n",
       "2                  Referral by the Central Office             1  \n",
       "3                  Referral by the Central Office             1  \n",
       "4                  Referral by the Central Office             0  \n",
       "..                                            ...           ...  \n",
       "220  Advertisement in National Wholesale Magazine             0  \n",
       "221  Advertisement in National Wholesale Magazine             0  \n",
       "222                         Sales Calls or Visits             0  \n",
       "223                         Sales Calls or Visits             0  \n",
       "224                         Sales Calls or Visits             0  \n",
       "\n",
       "[225 rows x 8 columns]"
      ]
     },
     "execution_count": 167,
     "metadata": {},
     "output_type": "execute_result"
    }
   ],
   "source": [
    "df_customer"
   ]
  },
  {
   "cell_type": "code",
   "execution_count": 168,
   "metadata": {},
   "outputs": [
    {
     "name": "stdout",
     "output_type": "stream",
     "text": [
      "There are 225 of customer\n",
      "-----------------------\n",
      "\n",
      "Null values: \n",
      "\n",
      "CustomerID       0\n",
      "CustomerName     0\n",
      "Region           0\n",
      "Country          0\n",
      "PriceCategory    0\n",
      "CustomerClass    0\n",
      "LeadSource       4\n",
      "Discontinued     0\n",
      "dtype: int64\n",
      "-----------------------\n",
      "\n",
      "Number duplicated rows: 0\n",
      "\n",
      "-----------------------\n",
      "\n",
      "CustomerID       225\n",
      "CustomerName     225\n",
      "Region            87\n",
      "Country            2\n",
      "PriceCategory      7\n",
      "CustomerClass      7\n",
      "LeadSource         8\n",
      "Discontinued       2\n",
      "dtype: int64\n",
      "-----------------------\n",
      "\n",
      "Description: \n",
      "       CustomerID  PriceCategory  Discontinued\n",
      "count  225.000000     225.000000    225.000000\n",
      "mean   124.577778       3.711111      0.115556\n",
      "std     72.511664       1.523949      0.320404\n",
      "min      1.000000       1.000000      0.000000\n",
      "25%     61.000000       2.000000      0.000000\n",
      "50%    126.000000       4.000000      0.000000\n",
      "75%    187.000000       5.000000      0.000000\n",
      "max    247.000000       7.000000      1.000000\n",
      "-----------------------\n",
      "\n",
      "CustomerID        int64\n",
      "CustomerName     object\n",
      "Region           object\n",
      "Country          object\n",
      "PriceCategory     int64\n",
      "CustomerClass    object\n",
      "LeadSource       object\n",
      "Discontinued      int64\n",
      "dtype: object\n"
     ]
    }
   ],
   "source": [
    "f.analysis_data(df_customer, \"customer\")"
   ]
  },
  {
   "cell_type": "code",
   "execution_count": 169,
   "metadata": {},
   "outputs": [
    {
     "data": {
      "text/plain": [
       "array(['Russian Federation', 'Belarus'], dtype=object)"
      ]
     },
     "execution_count": 169,
     "metadata": {},
     "output_type": "execute_result"
    }
   ],
   "source": [
    "df_customer['Country'].unique()"
   ]
  },
  {
   "cell_type": "code",
   "execution_count": 170,
   "metadata": {},
   "outputs": [
    {
     "data": {
      "text/plain": [
       "87"
      ]
     },
     "execution_count": 170,
     "metadata": {},
     "output_type": "execute_result"
    }
   ],
   "source": [
    "df_customer['Region'].nunique()"
   ]
  },
  {
   "cell_type": "code",
   "execution_count": 171,
   "metadata": {},
   "outputs": [
    {
     "data": {
      "text/plain": [
       "array([1, 4, 5, 2, 7, 6, 3])"
      ]
     },
     "execution_count": 171,
     "metadata": {},
     "output_type": "execute_result"
    }
   ],
   "source": [
    "df_customer['PriceCategory'].unique()"
   ]
  },
  {
   "cell_type": "code",
   "execution_count": 172,
   "metadata": {},
   "outputs": [
    {
     "data": {
      "text/plain": [
       "array(['Large-Scale Wholesaler-1', 'Consumer', 'Retailer',\n",
       "       'Small-Scale Wholesaler', 'Large-Scale Wholesaler-2', 'Branch',\n",
       "       'HyPermarket'], dtype=object)"
      ]
     },
     "execution_count": 172,
     "metadata": {},
     "output_type": "execute_result"
    }
   ],
   "source": [
    "df_customer['CustomerClass'].unique()"
   ]
  },
  {
   "cell_type": "code",
   "execution_count": 173,
   "metadata": {},
   "outputs": [
    {
     "data": {
      "text/plain": [
       "array(['Referral by the Central Office', 'Other',\n",
       "       'Advertisement in National Wholesale Magazine',\n",
       "       'Sales Calls or Visits', 'Trade Shows',\n",
       "       'Referral by Third Parties', nan, 'Organic Search',\n",
       "       'Advertisement in Regional Wholesaler Magazine'], dtype=object)"
      ]
     },
     "execution_count": 173,
     "metadata": {},
     "output_type": "execute_result"
    }
   ],
   "source": [
    "df_customer['LeadSource'].unique()"
   ]
  },
  {
   "cell_type": "code",
   "execution_count": 174,
   "metadata": {},
   "outputs": [
    {
     "data": {
      "text/plain": [
       "array([0, 1])"
      ]
     },
     "execution_count": 174,
     "metadata": {},
     "output_type": "execute_result"
    }
   ],
   "source": [
    "df_customer['Discontinued'].unique()"
   ]
  },
  {
   "cell_type": "markdown",
   "metadata": {},
   "source": [
    "### 1.2 Employees"
   ]
  },
  {
   "cell_type": "markdown",
   "metadata": {},
   "source": [
    "Summary:\n",
    "- There are 14 employees"
   ]
  },
  {
   "cell_type": "code",
   "execution_count": 175,
   "metadata": {},
   "outputs": [
    {
     "data": {
      "text/html": [
       "<div>\n",
       "<style scoped>\n",
       "    .dataframe tbody tr th:only-of-type {\n",
       "        vertical-align: middle;\n",
       "    }\n",
       "\n",
       "    .dataframe tbody tr th {\n",
       "        vertical-align: top;\n",
       "    }\n",
       "\n",
       "    .dataframe thead th {\n",
       "        text-align: right;\n",
       "    }\n",
       "</style>\n",
       "<table border=\"1\" class=\"dataframe\">\n",
       "  <thead>\n",
       "    <tr style=\"text-align: right;\">\n",
       "      <th></th>\n",
       "      <th>EmployeeID</th>\n",
       "      <th>EmployeeName</th>\n",
       "    </tr>\n",
       "  </thead>\n",
       "  <tbody>\n",
       "    <tr>\n",
       "      <th>0</th>\n",
       "      <td>1</td>\n",
       "      <td>E1</td>\n",
       "    </tr>\n",
       "    <tr>\n",
       "      <th>1</th>\n",
       "      <td>2</td>\n",
       "      <td>E2</td>\n",
       "    </tr>\n",
       "    <tr>\n",
       "      <th>2</th>\n",
       "      <td>3</td>\n",
       "      <td>E3</td>\n",
       "    </tr>\n",
       "    <tr>\n",
       "      <th>3</th>\n",
       "      <td>5</td>\n",
       "      <td>E4</td>\n",
       "    </tr>\n",
       "    <tr>\n",
       "      <th>4</th>\n",
       "      <td>6</td>\n",
       "      <td>E5</td>\n",
       "    </tr>\n",
       "    <tr>\n",
       "      <th>5</th>\n",
       "      <td>7</td>\n",
       "      <td>E6</td>\n",
       "    </tr>\n",
       "    <tr>\n",
       "      <th>6</th>\n",
       "      <td>8</td>\n",
       "      <td>E7</td>\n",
       "    </tr>\n",
       "    <tr>\n",
       "      <th>7</th>\n",
       "      <td>9</td>\n",
       "      <td>E8</td>\n",
       "    </tr>\n",
       "    <tr>\n",
       "      <th>8</th>\n",
       "      <td>10</td>\n",
       "      <td>E9</td>\n",
       "    </tr>\n",
       "    <tr>\n",
       "      <th>9</th>\n",
       "      <td>11</td>\n",
       "      <td>E10</td>\n",
       "    </tr>\n",
       "    <tr>\n",
       "      <th>10</th>\n",
       "      <td>12</td>\n",
       "      <td>E11</td>\n",
       "    </tr>\n",
       "    <tr>\n",
       "      <th>11</th>\n",
       "      <td>13</td>\n",
       "      <td>E12</td>\n",
       "    </tr>\n",
       "    <tr>\n",
       "      <th>12</th>\n",
       "      <td>14</td>\n",
       "      <td>E13</td>\n",
       "    </tr>\n",
       "    <tr>\n",
       "      <th>13</th>\n",
       "      <td>15</td>\n",
       "      <td>E14</td>\n",
       "    </tr>\n",
       "    <tr>\n",
       "      <th>14</th>\n",
       "      <td>16</td>\n",
       "      <td>E15</td>\n",
       "    </tr>\n",
       "  </tbody>\n",
       "</table>\n",
       "</div>"
      ],
      "text/plain": [
       "    EmployeeID EmployeeName\n",
       "0            1           E1\n",
       "1            2           E2\n",
       "2            3           E3\n",
       "3            5           E4\n",
       "4            6           E5\n",
       "5            7           E6\n",
       "6            8           E7\n",
       "7            9           E8\n",
       "8           10           E9\n",
       "9           11          E10\n",
       "10          12          E11\n",
       "11          13          E12\n",
       "12          14          E13\n",
       "13          15          E14\n",
       "14          16          E15"
      ]
     },
     "execution_count": 175,
     "metadata": {},
     "output_type": "execute_result"
    }
   ],
   "source": [
    "df_employees"
   ]
  },
  {
   "cell_type": "code",
   "execution_count": 176,
   "metadata": {},
   "outputs": [
    {
     "name": "stdout",
     "output_type": "stream",
     "text": [
      "There are 15 of employees\n",
      "-----------------------\n",
      "\n",
      "Null values: \n",
      "\n",
      "EmployeeID      0\n",
      "EmployeeName    0\n",
      "dtype: int64\n",
      "-----------------------\n",
      "\n",
      "Number duplicated rows: 0\n",
      "\n",
      "-----------------------\n",
      "\n",
      "EmployeeID      15\n",
      "EmployeeName    15\n",
      "dtype: int64\n",
      "-----------------------\n",
      "\n",
      "Description: \n",
      "       EmployeeID\n",
      "count   15.000000\n",
      "mean     8.800000\n",
      "std      4.768947\n",
      "min      1.000000\n",
      "25%      5.500000\n",
      "50%      9.000000\n",
      "75%     12.500000\n",
      "max     16.000000\n",
      "-----------------------\n",
      "\n",
      "EmployeeID       int64\n",
      "EmployeeName    object\n",
      "dtype: object\n"
     ]
    }
   ],
   "source": [
    "f.analysis_data(df_employees, \"employees\")"
   ]
  },
  {
   "cell_type": "markdown",
   "metadata": {},
   "source": [
    "### 1.3 Inventory Transactions"
   ]
  },
  {
   "cell_type": "code",
   "execution_count": 177,
   "metadata": {},
   "outputs": [
    {
     "data": {
      "text/html": [
       "<div>\n",
       "<style scoped>\n",
       "    .dataframe tbody tr th:only-of-type {\n",
       "        vertical-align: middle;\n",
       "    }\n",
       "\n",
       "    .dataframe tbody tr th {\n",
       "        vertical-align: top;\n",
       "    }\n",
       "\n",
       "    .dataframe thead th {\n",
       "        text-align: right;\n",
       "    }\n",
       "</style>\n",
       "<table border=\"1\" class=\"dataframe\">\n",
       "  <thead>\n",
       "    <tr style=\"text-align: right;\">\n",
       "      <th></th>\n",
       "      <th>TransactionID</th>\n",
       "      <th>ProductID</th>\n",
       "      <th>PurchaseOrderID</th>\n",
       "      <th>MissingID</th>\n",
       "      <th>TransactionDate</th>\n",
       "      <th>UnitPurchasePrice</th>\n",
       "      <th>QuantityOrdered</th>\n",
       "      <th>QuantityReceived</th>\n",
       "      <th>QuantityMissing</th>\n",
       "    </tr>\n",
       "  </thead>\n",
       "  <tbody>\n",
       "    <tr>\n",
       "      <th>0</th>\n",
       "      <td>1</td>\n",
       "      <td>1</td>\n",
       "      <td>NaN</td>\n",
       "      <td>NaN</td>\n",
       "      <td>5/29/2003</td>\n",
       "      <td>NaN</td>\n",
       "      <td>28.0</td>\n",
       "      <td>28.0</td>\n",
       "      <td>NaN</td>\n",
       "    </tr>\n",
       "    <tr>\n",
       "      <th>1</th>\n",
       "      <td>2</td>\n",
       "      <td>2</td>\n",
       "      <td>NaN</td>\n",
       "      <td>NaN</td>\n",
       "      <td>5/29/2003</td>\n",
       "      <td>NaN</td>\n",
       "      <td>60.0</td>\n",
       "      <td>60.0</td>\n",
       "      <td>NaN</td>\n",
       "    </tr>\n",
       "    <tr>\n",
       "      <th>2</th>\n",
       "      <td>3</td>\n",
       "      <td>3</td>\n",
       "      <td>NaN</td>\n",
       "      <td>NaN</td>\n",
       "      <td>5/29/2003</td>\n",
       "      <td>NaN</td>\n",
       "      <td>60.0</td>\n",
       "      <td>60.0</td>\n",
       "      <td>NaN</td>\n",
       "    </tr>\n",
       "    <tr>\n",
       "      <th>3</th>\n",
       "      <td>4</td>\n",
       "      <td>4</td>\n",
       "      <td>NaN</td>\n",
       "      <td>NaN</td>\n",
       "      <td>5/29/2003</td>\n",
       "      <td>NaN</td>\n",
       "      <td>60.0</td>\n",
       "      <td>60.0</td>\n",
       "      <td>NaN</td>\n",
       "    </tr>\n",
       "    <tr>\n",
       "      <th>4</th>\n",
       "      <td>6</td>\n",
       "      <td>6</td>\n",
       "      <td>NaN</td>\n",
       "      <td>NaN</td>\n",
       "      <td>5/29/2003</td>\n",
       "      <td>NaN</td>\n",
       "      <td>0.0</td>\n",
       "      <td>0.0</td>\n",
       "      <td>NaN</td>\n",
       "    </tr>\n",
       "    <tr>\n",
       "      <th>...</th>\n",
       "      <td>...</td>\n",
       "      <td>...</td>\n",
       "      <td>...</td>\n",
       "      <td>...</td>\n",
       "      <td>...</td>\n",
       "      <td>...</td>\n",
       "      <td>...</td>\n",
       "      <td>...</td>\n",
       "      <td>...</td>\n",
       "    </tr>\n",
       "    <tr>\n",
       "      <th>20946</th>\n",
       "      <td>41219</td>\n",
       "      <td>4419</td>\n",
       "      <td>315.0</td>\n",
       "      <td>NaN</td>\n",
       "      <td>4/5/2006</td>\n",
       "      <td>1.3</td>\n",
       "      <td>10.0</td>\n",
       "      <td>10.0</td>\n",
       "      <td>NaN</td>\n",
       "    </tr>\n",
       "    <tr>\n",
       "      <th>20947</th>\n",
       "      <td>41220</td>\n",
       "      <td>4420</td>\n",
       "      <td>315.0</td>\n",
       "      <td>NaN</td>\n",
       "      <td>4/5/2006</td>\n",
       "      <td>1.2</td>\n",
       "      <td>10.0</td>\n",
       "      <td>10.0</td>\n",
       "      <td>NaN</td>\n",
       "    </tr>\n",
       "    <tr>\n",
       "      <th>20948</th>\n",
       "      <td>41221</td>\n",
       "      <td>4421</td>\n",
       "      <td>315.0</td>\n",
       "      <td>NaN</td>\n",
       "      <td>4/5/2006</td>\n",
       "      <td>1.4</td>\n",
       "      <td>10.0</td>\n",
       "      <td>10.0</td>\n",
       "      <td>NaN</td>\n",
       "    </tr>\n",
       "    <tr>\n",
       "      <th>20949</th>\n",
       "      <td>41222</td>\n",
       "      <td>4261</td>\n",
       "      <td>315.0</td>\n",
       "      <td>NaN</td>\n",
       "      <td>4/5/2006</td>\n",
       "      <td>6.0</td>\n",
       "      <td>30.0</td>\n",
       "      <td>30.0</td>\n",
       "      <td>NaN</td>\n",
       "    </tr>\n",
       "    <tr>\n",
       "      <th>20950</th>\n",
       "      <td>41223</td>\n",
       "      <td>4317</td>\n",
       "      <td>315.0</td>\n",
       "      <td>NaN</td>\n",
       "      <td>4/5/2006</td>\n",
       "      <td>6.6</td>\n",
       "      <td>30.0</td>\n",
       "      <td>30.0</td>\n",
       "      <td>NaN</td>\n",
       "    </tr>\n",
       "  </tbody>\n",
       "</table>\n",
       "<p>20951 rows × 9 columns</p>\n",
       "</div>"
      ],
      "text/plain": [
       "       TransactionID  ProductID  PurchaseOrderID  MissingID TransactionDate  \\\n",
       "0                  1          1              NaN        NaN       5/29/2003   \n",
       "1                  2          2              NaN        NaN       5/29/2003   \n",
       "2                  3          3              NaN        NaN       5/29/2003   \n",
       "3                  4          4              NaN        NaN       5/29/2003   \n",
       "4                  6          6              NaN        NaN       5/29/2003   \n",
       "...              ...        ...              ...        ...             ...   \n",
       "20946          41219       4419            315.0        NaN        4/5/2006   \n",
       "20947          41220       4420            315.0        NaN        4/5/2006   \n",
       "20948          41221       4421            315.0        NaN        4/5/2006   \n",
       "20949          41222       4261            315.0        NaN        4/5/2006   \n",
       "20950          41223       4317            315.0        NaN        4/5/2006   \n",
       "\n",
       "       UnitPurchasePrice  QuantityOrdered  QuantityReceived  QuantityMissing  \n",
       "0                    NaN             28.0              28.0              NaN  \n",
       "1                    NaN             60.0              60.0              NaN  \n",
       "2                    NaN             60.0              60.0              NaN  \n",
       "3                    NaN             60.0              60.0              NaN  \n",
       "4                    NaN              0.0               0.0              NaN  \n",
       "...                  ...              ...               ...              ...  \n",
       "20946                1.3             10.0              10.0              NaN  \n",
       "20947                1.2             10.0              10.0              NaN  \n",
       "20948                1.4             10.0              10.0              NaN  \n",
       "20949                6.0             30.0              30.0              NaN  \n",
       "20950                6.6             30.0              30.0              NaN  \n",
       "\n",
       "[20951 rows x 9 columns]"
      ]
     },
     "execution_count": 177,
     "metadata": {},
     "output_type": "execute_result"
    }
   ],
   "source": [
    "df_inventory"
   ]
  },
  {
   "cell_type": "code",
   "execution_count": 178,
   "metadata": {},
   "outputs": [
    {
     "name": "stdout",
     "output_type": "stream",
     "text": [
      "There are 20951 of inventory transactions\n",
      "-----------------------\n",
      "\n",
      "Null values: \n",
      "\n",
      "TransactionID            0\n",
      "ProductID                0\n",
      "PurchaseOrderID       3345\n",
      "MissingID            18757\n",
      "TransactionDate          1\n",
      "UnitPurchasePrice     1151\n",
      "QuantityOrdered       2195\n",
      "QuantityReceived      2227\n",
      "QuantityMissing      18757\n",
      "dtype: int64\n",
      "-----------------------\n",
      "\n",
      "Number duplicated rows: 0\n",
      "\n",
      "-----------------------\n",
      "\n",
      "TransactionID        20951\n",
      "ProductID             4140\n",
      "PurchaseOrderID        232\n",
      "MissingID               27\n",
      "TransactionDate        180\n",
      "UnitPurchasePrice      252\n",
      "QuantityOrdered        268\n",
      "QuantityReceived       268\n",
      "QuantityMissing         93\n",
      "dtype: int64\n",
      "-----------------------\n",
      "\n",
      "Description: \n"
     ]
    },
    {
     "name": "stdout",
     "output_type": "stream",
     "text": [
      "       TransactionID     ProductID  PurchaseOrderID    MissingID  \\\n",
      "count   20951.000000  20951.000000     17606.000000  2194.000000   \n",
      "mean    20186.404754   1434.974273       163.757128    10.257065   \n",
      "std     12574.199562   1071.728615        90.254718     9.367187   \n",
      "min         1.000000      1.000000        25.000000     1.000000   \n",
      "25%      8997.500000    674.000000        84.000000     2.000000   \n",
      "50%     20440.000000   1120.000000       154.000000     5.000000   \n",
      "75%     31872.500000   2022.000000       248.000000    19.000000   \n",
      "max     41223.000000   4422.000000       315.000000    29.000000   \n",
      "\n",
      "       UnitPurchasePrice  QuantityOrdered  QuantityReceived  QuantityMissing  \n",
      "count       19800.000000     18756.000000      18724.000000      2194.000000  \n",
      "mean            4.486484        40.939326         40.992576         8.185050  \n",
      "std             2.020887        51.792820         51.887844        32.723404  \n",
      "min             0.000000         0.000000          0.000000         0.000000  \n",
      "25%             3.300000        10.000000         10.000000         0.000000  \n",
      "50%             4.300000        30.000000         30.000000         1.000000  \n",
      "75%             5.350000        50.000000         50.000000         2.000000  \n",
      "max            14.500000      1475.000000       1475.000000       732.000000  \n",
      "-----------------------\n",
      "\n",
      "TransactionID          int64\n",
      "ProductID              int64\n",
      "PurchaseOrderID      float64\n",
      "MissingID            float64\n",
      "TransactionDate       object\n",
      "UnitPurchasePrice    float64\n",
      "QuantityOrdered      float64\n",
      "QuantityReceived     float64\n",
      "QuantityMissing      float64\n",
      "dtype: object\n"
     ]
    }
   ],
   "source": [
    "f.analysis_data(df_inventory, \"inventory transactions\")"
   ]
  },
  {
   "cell_type": "code",
   "execution_count": 179,
   "metadata": {},
   "outputs": [],
   "source": [
    "# Delete MissingID\n",
    "\n",
    "df_inventory = df_inventory.drop(columns=['MissingID'])"
   ]
  },
  {
   "cell_type": "code",
   "execution_count": 180,
   "metadata": {},
   "outputs": [],
   "source": [
    "# Convert to int PurchaseOrderID and null values convert to 0\n",
    "df_inventory['PurchaseOrderID'] = df_inventory['PurchaseOrderID'].fillna(0)\n",
    "\n",
    "df_inventory['PurchaseOrderID'] = df_inventory['PurchaseOrderID'].apply(lambda x: int(x) if pd.notnull(x) else x)"
   ]
  },
  {
   "cell_type": "markdown",
   "metadata": {},
   "source": [
    "### 1.4 Products"
   ]
  },
  {
   "cell_type": "markdown",
   "metadata": {},
   "source": [
    "Summary:\n",
    "- There are 4169 products (like types + sizes). They can be classified by:\n",
    "    - **Name** (ex: L-BX46CK, but it is size + product)\n",
    "    - **Product Type**, there are 1342 differents (BX46CK)\n",
    "    - **Model Description**, it is the type of product (ex: TANGA KAMP )\n",
    "    - **Fabric Descriptions** -> there are numbers USELESS COLUMN\n",
    "    - **Category** -> there are 8 ('Undershirts', 'Briefs', 'Boxers', 'Thongs', 'Slips', 'Drawers',\n",
    "       'Regular-Over the Calf', 'Cuff-Over the Calf')\n",
    "    - **Gender:** \"Girls' Undershirts\", \"Boys' Undershirts\", \"Girls' Panties\",\n",
    "       \"Boys' Briefs\", \"Men's Undershirts\", \"Women's Undershirts\",\n",
    "       \"Women's Panties\", \"Men's Briefs\", \"Children's Socks\",\n",
    "       \"Women's Socks\", \"Men's Socks\n",
    "    - **Product Line:** 'Underwear', 'Socks'\n",
    "    - **Weight**, integer\n",
    "    - **Size**: 'M', 'XS', 'S', 'L', 'XL', 'XXL', '3XL', '4XL', 'S-M', 'L-XL',\n",
    "       '5XL', '6XL', '5', '7', '9', '11', '35-40', '40-46', '13' (numbers are socks)\n",
    "    - **Packtype**: 'Dozen', 'Single Unit'\n",
    "    - **Status**: 'In Production', 'Out of Production'\n",
    "    - **Inventory Date**: from 2003 to 2006\n",
    "    - **Price**: in range of (0.4, 14.0)"
   ]
  },
  {
   "cell_type": "code",
   "execution_count": 181,
   "metadata": {},
   "outputs": [
    {
     "data": {
      "text/html": [
       "<div>\n",
       "<style scoped>\n",
       "    .dataframe tbody tr th:only-of-type {\n",
       "        vertical-align: middle;\n",
       "    }\n",
       "\n",
       "    .dataframe tbody tr th {\n",
       "        vertical-align: top;\n",
       "    }\n",
       "\n",
       "    .dataframe thead th {\n",
       "        text-align: right;\n",
       "    }\n",
       "</style>\n",
       "<table border=\"1\" class=\"dataframe\">\n",
       "  <thead>\n",
       "    <tr style=\"text-align: right;\">\n",
       "      <th></th>\n",
       "      <th>ProductID</th>\n",
       "      <th>ProductName</th>\n",
       "      <th>Color</th>\n",
       "      <th>ModelDescription</th>\n",
       "      <th>FabricDescription</th>\n",
       "      <th>Category</th>\n",
       "      <th>Gender</th>\n",
       "      <th>ProductLine</th>\n",
       "      <th>Weight</th>\n",
       "      <th>Size</th>\n",
       "      <th>PackSize</th>\n",
       "      <th>Status</th>\n",
       "      <th>InventoryDate</th>\n",
       "      <th>PurchasePrice</th>\n",
       "    </tr>\n",
       "  </thead>\n",
       "  <tbody>\n",
       "    <tr>\n",
       "      <th>0</th>\n",
       "      <td>1</td>\n",
       "      <td>3-182</td>\n",
       "      <td>NaN</td>\n",
       "      <td>AT</td>\n",
       "      <td>182</td>\n",
       "      <td>Undershirts</td>\n",
       "      <td>Girls' Undershirts</td>\n",
       "      <td>Underwear</td>\n",
       "      <td>822</td>\n",
       "      <td>3</td>\n",
       "      <td>Dozen</td>\n",
       "      <td>In Production</td>\n",
       "      <td>7/10/2003</td>\n",
       "      <td>6.6</td>\n",
       "    </tr>\n",
       "    <tr>\n",
       "      <th>1</th>\n",
       "      <td>2</td>\n",
       "      <td>3-183</td>\n",
       "      <td>NaN</td>\n",
       "      <td>AT</td>\n",
       "      <td>183</td>\n",
       "      <td>Undershirts</td>\n",
       "      <td>Girls' Undershirts</td>\n",
       "      <td>Underwear</td>\n",
       "      <td>620</td>\n",
       "      <td>3</td>\n",
       "      <td>Dozen</td>\n",
       "      <td>Out of Production</td>\n",
       "      <td>7/10/2003</td>\n",
       "      <td>5.6</td>\n",
       "    </tr>\n",
       "    <tr>\n",
       "      <th>2</th>\n",
       "      <td>3</td>\n",
       "      <td>3-184</td>\n",
       "      <td>NaN</td>\n",
       "      <td>AT</td>\n",
       "      <td>184</td>\n",
       "      <td>Undershirts</td>\n",
       "      <td>Girls' Undershirts</td>\n",
       "      <td>Underwear</td>\n",
       "      <td>718</td>\n",
       "      <td>3</td>\n",
       "      <td>Dozen</td>\n",
       "      <td>In Production</td>\n",
       "      <td>7/10/2003</td>\n",
       "      <td>6.3</td>\n",
       "    </tr>\n",
       "    <tr>\n",
       "      <th>3</th>\n",
       "      <td>4</td>\n",
       "      <td>3-185</td>\n",
       "      <td>NaN</td>\n",
       "      <td>AT</td>\n",
       "      <td>185</td>\n",
       "      <td>Undershirts</td>\n",
       "      <td>Boys' Undershirts</td>\n",
       "      <td>Underwear</td>\n",
       "      <td>820</td>\n",
       "      <td>3</td>\n",
       "      <td>Dozen</td>\n",
       "      <td>In Production</td>\n",
       "      <td>7/10/2003</td>\n",
       "      <td>5.6</td>\n",
       "    </tr>\n",
       "    <tr>\n",
       "      <th>4</th>\n",
       "      <td>5</td>\n",
       "      <td>3-A30N</td>\n",
       "      <td>NaN</td>\n",
       "      <td>A</td>\n",
       "      <td>30</td>\n",
       "      <td>Briefs</td>\n",
       "      <td>Girls' Panties</td>\n",
       "      <td>Underwear</td>\n",
       "      <td>214</td>\n",
       "      <td>3</td>\n",
       "      <td>Dozen</td>\n",
       "      <td>Out of Production</td>\n",
       "      <td>8/6/2003</td>\n",
       "      <td>3.3</td>\n",
       "    </tr>\n",
       "    <tr>\n",
       "      <th>...</th>\n",
       "      <td>...</td>\n",
       "      <td>...</td>\n",
       "      <td>...</td>\n",
       "      <td>...</td>\n",
       "      <td>...</td>\n",
       "      <td>...</td>\n",
       "      <td>...</td>\n",
       "      <td>...</td>\n",
       "      <td>...</td>\n",
       "      <td>...</td>\n",
       "      <td>...</td>\n",
       "      <td>...</td>\n",
       "      <td>...</td>\n",
       "      <td>...</td>\n",
       "    </tr>\n",
       "    <tr>\n",
       "      <th>4178</th>\n",
       "      <td>4419</td>\n",
       "      <td>L-BX46CK</td>\n",
       "      <td>NaN</td>\n",
       "      <td>BX</td>\n",
       "      <td>46</td>\n",
       "      <td>Boxers</td>\n",
       "      <td>Men's Briefs</td>\n",
       "      <td>Underwear</td>\n",
       "      <td>90</td>\n",
       "      <td>L</td>\n",
       "      <td>Single Unit</td>\n",
       "      <td>In Production</td>\n",
       "      <td>4/4/2006</td>\n",
       "      <td>1.3</td>\n",
       "    </tr>\n",
       "    <tr>\n",
       "      <th>4179</th>\n",
       "      <td>4420</td>\n",
       "      <td>M-BX46CK</td>\n",
       "      <td>NaN</td>\n",
       "      <td>BX</td>\n",
       "      <td>46</td>\n",
       "      <td>Boxers</td>\n",
       "      <td>Men's Briefs</td>\n",
       "      <td>Underwear</td>\n",
       "      <td>85</td>\n",
       "      <td>M</td>\n",
       "      <td>Single Unit</td>\n",
       "      <td>In Production</td>\n",
       "      <td>4/4/2006</td>\n",
       "      <td>1.2</td>\n",
       "    </tr>\n",
       "    <tr>\n",
       "      <th>4180</th>\n",
       "      <td>4421</td>\n",
       "      <td>XL-BX46CK</td>\n",
       "      <td>NaN</td>\n",
       "      <td>BX</td>\n",
       "      <td>46</td>\n",
       "      <td>Boxers</td>\n",
       "      <td>Men's Briefs</td>\n",
       "      <td>Underwear</td>\n",
       "      <td>100</td>\n",
       "      <td>XL</td>\n",
       "      <td>Single Unit</td>\n",
       "      <td>In Production</td>\n",
       "      <td>4/4/2006</td>\n",
       "      <td>1.4</td>\n",
       "    </tr>\n",
       "    <tr>\n",
       "      <th>4181</th>\n",
       "      <td>4422</td>\n",
       "      <td>L-D46D</td>\n",
       "      <td>NaN</td>\n",
       "      <td>D</td>\n",
       "      <td>46</td>\n",
       "      <td>Briefs</td>\n",
       "      <td>Women's Panties</td>\n",
       "      <td>Underwear</td>\n",
       "      <td>285</td>\n",
       "      <td>L</td>\n",
       "      <td>Dozen</td>\n",
       "      <td>In Production</td>\n",
       "      <td>4/4/2006</td>\n",
       "      <td>3.9</td>\n",
       "    </tr>\n",
       "    <tr>\n",
       "      <th>4182</th>\n",
       "      <td>4423</td>\n",
       "      <td>M-TV46</td>\n",
       "      <td>NaN</td>\n",
       "      <td>TV</td>\n",
       "      <td>46</td>\n",
       "      <td>Thongs</td>\n",
       "      <td>Women's Panties</td>\n",
       "      <td>Underwear</td>\n",
       "      <td>190</td>\n",
       "      <td>M</td>\n",
       "      <td>Dozen</td>\n",
       "      <td>In Production</td>\n",
       "      <td>4/18/2006</td>\n",
       "      <td>3.3</td>\n",
       "    </tr>\n",
       "  </tbody>\n",
       "</table>\n",
       "<p>4183 rows × 14 columns</p>\n",
       "</div>"
      ],
      "text/plain": [
       "      ProductID ProductName Color ModelDescription FabricDescription  \\\n",
       "0             1       3-182   NaN               AT               182   \n",
       "1             2       3-183   NaN               AT               183   \n",
       "2             3       3-184   NaN               AT               184   \n",
       "3             4       3-185   NaN               AT               185   \n",
       "4             5      3-A30N   NaN                A                30   \n",
       "...         ...         ...   ...              ...               ...   \n",
       "4178       4419    L-BX46CK   NaN               BX                46   \n",
       "4179       4420    M-BX46CK   NaN               BX                46   \n",
       "4180       4421   XL-BX46CK   NaN               BX                46   \n",
       "4181       4422      L-D46D   NaN                D                46   \n",
       "4182       4423      M-TV46   NaN               TV                46   \n",
       "\n",
       "         Category              Gender ProductLine  Weight Size     PackSize  \\\n",
       "0     Undershirts  Girls' Undershirts   Underwear     822    3        Dozen   \n",
       "1     Undershirts  Girls' Undershirts   Underwear     620    3        Dozen   \n",
       "2     Undershirts  Girls' Undershirts   Underwear     718    3        Dozen   \n",
       "3     Undershirts   Boys' Undershirts   Underwear     820    3        Dozen   \n",
       "4          Briefs      Girls' Panties   Underwear     214    3        Dozen   \n",
       "...           ...                 ...         ...     ...  ...          ...   \n",
       "4178       Boxers        Men's Briefs   Underwear      90    L  Single Unit   \n",
       "4179       Boxers        Men's Briefs   Underwear      85    M  Single Unit   \n",
       "4180       Boxers        Men's Briefs   Underwear     100   XL  Single Unit   \n",
       "4181       Briefs     Women's Panties   Underwear     285    L        Dozen   \n",
       "4182       Thongs     Women's Panties   Underwear     190    M        Dozen   \n",
       "\n",
       "                 Status InventoryDate  PurchasePrice  \n",
       "0         In Production     7/10/2003            6.6  \n",
       "1     Out of Production     7/10/2003            5.6  \n",
       "2         In Production     7/10/2003            6.3  \n",
       "3         In Production     7/10/2003            5.6  \n",
       "4     Out of Production      8/6/2003            3.3  \n",
       "...                 ...           ...            ...  \n",
       "4178      In Production      4/4/2006            1.3  \n",
       "4179      In Production      4/4/2006            1.2  \n",
       "4180      In Production      4/4/2006            1.4  \n",
       "4181      In Production      4/4/2006            3.9  \n",
       "4182      In Production     4/18/2006            3.3  \n",
       "\n",
       "[4183 rows x 14 columns]"
      ]
     },
     "execution_count": 181,
     "metadata": {},
     "output_type": "execute_result"
    }
   ],
   "source": [
    "df_products"
   ]
  },
  {
   "cell_type": "code",
   "execution_count": 182,
   "metadata": {},
   "outputs": [],
   "source": [
    "df_products = df_products.drop(columns=['FabricDescription'])"
   ]
  },
  {
   "cell_type": "code",
   "execution_count": 183,
   "metadata": {},
   "outputs": [
    {
     "name": "stdout",
     "output_type": "stream",
     "text": [
      "There are 4183 of products\n",
      "-----------------------\n",
      "\n",
      "Null values: \n",
      "\n",
      "ProductID              0\n",
      "ProductName            0\n",
      "Color               4107\n",
      "ModelDescription      10\n",
      "Category               0\n",
      "Gender                 0\n",
      "ProductLine            0\n",
      "Weight                 0\n",
      "Size                  14\n",
      "PackSize               0\n",
      "Status                 0\n",
      "InventoryDate          0\n",
      "PurchasePrice          0\n",
      "dtype: int64\n",
      "-----------------------\n",
      "\n",
      "Number duplicated rows: 0\n",
      "\n",
      "-----------------------\n",
      "\n",
      "ProductID           4183\n",
      "ProductName         4183\n",
      "Color                 18\n",
      "ModelDescription     105\n",
      "Category              10\n",
      "Gender                12\n",
      "ProductLine            2\n",
      "Weight               705\n",
      "Size                  24\n",
      "PackSize               2\n",
      "Status                 2\n",
      "InventoryDate        112\n",
      "PurchasePrice        231\n",
      "dtype: int64\n",
      "-----------------------\n",
      "\n",
      "Description: \n",
      "         ProductID       Weight  PurchasePrice\n",
      "count  4183.000000  4183.000000    4183.000000\n",
      "mean   2208.978962   364.256514       4.486679\n",
      "std    1275.430066   243.470142       2.107469\n",
      "min       1.000000    32.000000       0.350000\n",
      "25%    1106.500000   209.000000       3.350000\n",
      "50%    2192.000000   312.000000       4.300000\n",
      "75%    3304.500000   460.000000       5.400000\n",
      "max    4423.000000  2316.000000      14.000000\n",
      "-----------------------\n",
      "\n",
      "ProductID             int64\n",
      "ProductName          object\n",
      "Color                object\n",
      "ModelDescription     object\n",
      "Category             object\n",
      "Gender               object\n",
      "ProductLine          object\n",
      "Weight                int64\n",
      "Size                 object\n",
      "PackSize             object\n",
      "Status               object\n",
      "InventoryDate        object\n",
      "PurchasePrice       float64\n",
      "dtype: object\n"
     ]
    }
   ],
   "source": [
    "f.analysis_data(df_products, \"products\")"
   ]
  },
  {
   "cell_type": "code",
   "execution_count": 184,
   "metadata": {},
   "outputs": [],
   "source": [
    "# Drop color:\n",
    "\n",
    "df_products = df_products.drop(columns=['Color'])"
   ]
  },
  {
   "cell_type": "code",
   "execution_count": 185,
   "metadata": {},
   "outputs": [],
   "source": [
    "# Drop files with null values\n",
    "\n",
    "df_products = df_products.dropna()"
   ]
  },
  {
   "cell_type": "code",
   "execution_count": 186,
   "metadata": {},
   "outputs": [
    {
     "data": {
      "text/plain": [
       "array(['3-182', '3-183', '3-184', ..., 'XL-BX46CK', 'L-D46D', 'M-TV46'],\n",
       "      dtype=object)"
      ]
     },
     "execution_count": 186,
     "metadata": {},
     "output_type": "execute_result"
    }
   ],
   "source": [
    "df_products['ProductName'].unique()"
   ]
  },
  {
   "cell_type": "code",
   "execution_count": 187,
   "metadata": {},
   "outputs": [
    {
     "data": {
      "text/plain": [
       "array(['AT', 'A', 'BX', 'ERK', 'GB', 'K', 'O', 'U', 'AT3K', 'AT4K', 'BB',\n",
       "       'C', 'D', 'G', 'GS', 'H', 'KA', 'KS', 'N', 'S', 'TA', 'Z', 'AF',\n",
       "       'F', 'R', 'SLP', 'TAB', 'TIA', 'TO', 'ZF', 'PCL', 'W', 'X', 'KH',\n",
       "       'SF', 'L', 'M', 'EE', 'EEV', 'TDDV', 'TEE', 'TEEP', 'TIEE', 'TTDD',\n",
       "       'TTEE', 'AA', 'E', 'THB', 'B', 'TB', 'TIB', 'EES', 'T', 'FF',\n",
       "       'BKAMP', 'SD', 'SKD', 'P', 'V', 'LL', 'Y', 'TEEB', 'TH', 'TTB',\n",
       "       'TFF', 'TLL', 'TV', 'TBP', 'BAL', 'AH', 'BA', 'TAF', 'TBAL', 'TAL',\n",
       "       'TT', 'ATL', 'AL', 'AS', 'TAG', 'BP', 'TAS', 'AG', 'AK', 'TAH',\n",
       "       'BAD', 'BS', 'IS', 'ISAL', 'IT', 'FAN', 'SALS', 'IAG', 'AN', 'TBA',\n",
       "       'SUT', 'AR', 'AP', 'AV', 'Any', 'FAV', 'TD', 'TE', 'TS',\n",
       "       'TANGA KAMP', 'ERS'], dtype=object)"
      ]
     },
     "execution_count": 187,
     "metadata": {},
     "output_type": "execute_result"
    }
   ],
   "source": [
    "df_products['ModelDescription'].unique()"
   ]
  },
  {
   "cell_type": "code",
   "execution_count": 188,
   "metadata": {},
   "outputs": [
    {
     "data": {
      "text/plain": [
       "Category\n",
       "Briefs                   2822\n",
       "Thongs                    497\n",
       "Undershirts               362\n",
       "Boxers                    294\n",
       "Slips                      73\n",
       "Regular-Over the Calf      72\n",
       "Drawers                    45\n",
       "Cuff-Over the Calf          3\n",
       "Any                         1\n",
       "Name: count, dtype: int64"
      ]
     },
     "execution_count": 188,
     "metadata": {},
     "output_type": "execute_result"
    }
   ],
   "source": [
    "df_products['Category'].value_counts()"
   ]
  },
  {
   "cell_type": "code",
   "execution_count": 189,
   "metadata": {},
   "outputs": [],
   "source": [
    "# Drop the row with any\n",
    "\n",
    "df_products = df_products[df_products['Category']!='Any']"
   ]
  },
  {
   "cell_type": "code",
   "execution_count": 190,
   "metadata": {},
   "outputs": [
    {
     "data": {
      "text/plain": [
       "Category\n",
       "Briefs                   2822\n",
       "Thongs                    497\n",
       "Undershirts               362\n",
       "Boxers                    294\n",
       "Slips                      73\n",
       "Regular-Over the Calf      72\n",
       "Drawers                    45\n",
       "Cuff-Over the Calf          3\n",
       "Name: count, dtype: int64"
      ]
     },
     "execution_count": 190,
     "metadata": {},
     "output_type": "execute_result"
    }
   ],
   "source": [
    "df_products['Category'].value_counts()"
   ]
  },
  {
   "cell_type": "code",
   "execution_count": 191,
   "metadata": {},
   "outputs": [
    {
     "data": {
      "text/plain": [
       "array([\"Girls' Undershirts\", \"Boys' Undershirts\", \"Girls' Panties\",\n",
       "       \"Boys' Briefs\", \"Men's Undershirts\", \"Women's Undershirts\",\n",
       "       \"Women's Panties\", \"Men's Briefs\", \"Children's Socks\",\n",
       "       \"Women's Socks\", \"Men's Socks\"], dtype=object)"
      ]
     },
     "execution_count": 191,
     "metadata": {},
     "output_type": "execute_result"
    }
   ],
   "source": [
    "df_products['Gender'].unique()"
   ]
  },
  {
   "cell_type": "code",
   "execution_count": 192,
   "metadata": {},
   "outputs": [
    {
     "data": {
      "text/plain": [
       "array(['Underwear', 'Socks'], dtype=object)"
      ]
     },
     "execution_count": 192,
     "metadata": {},
     "output_type": "execute_result"
    }
   ],
   "source": [
    "df_products['ProductLine'].unique()"
   ]
  },
  {
   "cell_type": "code",
   "execution_count": 193,
   "metadata": {},
   "outputs": [
    {
     "data": {
      "text/plain": [
       "array([ 822,  620,  718,  820,  214,   55,  389,  325,  340,  370,  345,\n",
       "        330,  359,  294,  280,  281,  269,  276,  381,  242,  271,  329,\n",
       "        273,  275,  282,  220,  305,  266,  290,  310,  225,  201,  233,\n",
       "        226,  228,  257,  491,  455,  530,  482,  551,  177,  262,  293,\n",
       "        291,  219,  202,  212,  211,  218,  252,  221,  553,  566,  590,\n",
       "         51,   47,  328,  301,  240,  205,  256,  243,  270,  299,  239,\n",
       "         88,  940, 1405,  117, 1245,  104,  935, 1165,   97, 1360,  113,\n",
       "        116,   87,   95,  102,  128,   90,  112,   98,   94,  334,  336,\n",
       "        353,  384,  374,  373,  395,  405,   70,   67,   66,   80,   79,\n",
       "         75,   84,   83,  350,  365,  383,  380,  283,  515,  705,  695,\n",
       "        575,  585,  610,  286,  390,  369,  401,  400,  732,  341,  480,\n",
       "        322,  430,  460,  470,  505,  533,  525,  434,  431,  450,  495,\n",
       "        428,  440,  425,  348,  419,  420,  461,  475,  478,  443,  449,\n",
       "        506,  413,  474,  462,  463,  509,  500,  504,  516,  485,  456,\n",
       "        517,  510,  520,  497,  502,  508,  503,  362,  296,  432,  730,\n",
       "        690,  492,  337,  367,  376,  193,  206,  191,  323,  321,  980,\n",
       "         78,  801,  746, 1285,  106,  890, 1095,   92,  845, 1005, 1171,\n",
       "         91,  110,  120,   72,   93,   85,  107,  109,  264,  246,  311,\n",
       "        335,  248,  287,  424,  317,  410,   60,   63,   61,   65,   82,\n",
       "        263,  278,  349,  304,  315,  346,  237,  314,  572,  625,  528,\n",
       "        579,  484,  208,  347,  372,  371,  355,  320,  393,  306,  435,\n",
       "        360,  385,  445,  379,  465,  396,  415,  448,  447,  550,  442,\n",
       "        444,  437,  324,  292,  300,  326,  351,  139,  172,  166,  185,\n",
       "        197,  192,  190,  175,  186,  187,  162,  178,  180,  145,  168,\n",
       "        167,  156,  144,  155,  319,  354,  662,   71,  101,   69,  111,\n",
       "         89,  254,  245,  251,   57,   53,   76,   68,   64,  468,  352,\n",
       "        327,  289,  386,  377,  358,  285,  265,  227,  260,  141,  125,\n",
       "        147,  161,  154,  157,  171,  182,  165,  159,  174,  173,  146,\n",
       "        160,  149,  158,  152,  142,  137,  207,  297, 1160,   99, 1044,\n",
       "        131, 1265,  960, 1330, 1435, 1184,  140,  115,  490,   81,   96,\n",
       "        426,  696,  635,  589,  429,  538,  561,  604,  519,  563,  524,\n",
       "        564,  617,  641,  580,  587,  535,  539,  477,  665,  552,  499,\n",
       "        531,  536,  557,  570,  555,  630,  607,  164,  361, 1100, 1530,\n",
       "        121, 1410, 1490,  122, 1544,  108,  621,  658,  638,  670,  675,\n",
       "        609,  565,  433,  494,  680,  661,  595,  571,  594,  527,  628,\n",
       "        576,  691,  608,  660,  645,  728,  684,  632,  583,  416,  626,\n",
       "        997, 1025, 1065, 1110, 1055, 1030,  977, 1075,  473, 1995,  720,\n",
       "        710,  800,  810,  650,  537,  584,  592,  772,  760,  700,  708,\n",
       "        640,  765,  685,  724,  835,  787,   74,  316, 1550, 1778, 1392,\n",
       "        643,  597,  606,  666,  313,  338, 1070,  378,  209,  295,  427,\n",
       "        183,  238,  512,  929,  995,   54,   59,  740,  612,  655,  312,\n",
       "        234,  224, 1140, 1307,  573,  544,  668,  543,  785,  397,  398,\n",
       "        745,  366,  975,  569,  875,  780, 1409,  467,  483,  481,  476,\n",
       "        153,  133,  560,  581,  582,  469,  339,  446,  279,  408,  249,\n",
       "        231,  288, 1185, 1295, 1125, 1000, 1175, 1155,  562,  652,  574,\n",
       "        734,  927, 1217,  375,  274,  318,  649,  236,  258, 1085,  143,\n",
       "        127,  119,  100,  213,  277,  216,  195,  241,  132,  169,  421,\n",
       "        307,  511,  235,  230,  284,  130,  176,  253,  545,  247,  542,\n",
       "        716,  781,  309,  865,  941,  464,  163,  150,  920,  925,  479,\n",
       "        189,  203, 1850, 1578,  223,   45,   32,  418,  689,  114, 1080,\n",
       "        344,  244, 1600, 2100, 1282, 1404, 1980, 2316,  232,  200,   43,\n",
       "         52,   73,  333,  588,  259,  712,  529,  709,  409,  151,  126,\n",
       "        268,  472,  105,  181,  215,  540,  342,  204,  368,  451,  725,\n",
       "        830,  407,  452,  229,  775,  840,  184,  194,  885,  788,  910,\n",
       "        521,  990,  687,  518,  818,  796,  950, 1090, 1020,  970,  466,\n",
       "        895,  905,  636, 1006, 1045,  593, 1390,  556,  900,  878,   38,\n",
       "       1149, 1610,  598,  770, 1035,  438,  736, 1134,   77,   56,   62,\n",
       "        715,  735,  704,  559,  825,  880,  867,  733,  858,  805,  541,\n",
       "       1179,  860,  672,  624,  591,  663, 1210, 1190, 1120, 1015, 1368,\n",
       "        924, 1270,  618,  623,  138, 1250,  850,  267,  250,  388, 1107,\n",
       "       1008, 1037,   58,   86,  261,  915,  969,  930,  343,  255,  148,\n",
       "        199,  217,  188,  210,  198,  103,  750,  605, 1225,  170,  615,\n",
       "        600,  135,  985,   50, 1475,  790,  522,  457, 1205, 1580, 1060,\n",
       "        795, 1195, 1040,  815,  855,  926, 1275, 1375, 1950,  965, 1150])"
      ]
     },
     "execution_count": 193,
     "metadata": {},
     "output_type": "execute_result"
    }
   ],
   "source": [
    "df_products['Weight'].unique()"
   ]
  },
  {
   "cell_type": "code",
   "execution_count": 194,
   "metadata": {},
   "outputs": [
    {
     "data": {
      "text/plain": [
       "array(['3', '1', '2', 'L', 'M', 'S', 'XL', 'XS', 'XXL', '3XL', '4XL',\n",
       "       'S-M', 'L-XL', '5XL', '6XL', '5', '7', '9', '11', '35-40', '40-46',\n",
       "       '4', '13'], dtype=object)"
      ]
     },
     "execution_count": 194,
     "metadata": {},
     "output_type": "execute_result"
    }
   ],
   "source": [
    "df_products['Size'].unique()\n",
    "\n",
    "# 13, 11, 9, 7, 5 -> Calcetines\n",
    "# 4, 3,1,2 -> Bragas"
   ]
  },
  {
   "cell_type": "code",
   "execution_count": 195,
   "metadata": {},
   "outputs": [],
   "source": [
    "df_products['Size'] = df_products['Size'].replace({'1': 'XS', '2': 'S', '3': 'M', '4': 'L' })"
   ]
  },
  {
   "cell_type": "code",
   "execution_count": 196,
   "metadata": {},
   "outputs": [
    {
     "data": {
      "text/plain": [
       "array(['M', 'XS', 'S', 'L', 'XL', 'XXL', '3XL', '4XL', 'S-M', 'L-XL',\n",
       "       '5XL', '6XL', '5', '7', '9', '11', '35-40', '40-46', '13'],\n",
       "      dtype=object)"
      ]
     },
     "execution_count": 196,
     "metadata": {},
     "output_type": "execute_result"
    }
   ],
   "source": [
    "df_products['Size'].unique()"
   ]
  },
  {
   "cell_type": "code",
   "execution_count": 197,
   "metadata": {},
   "outputs": [
    {
     "data": {
      "text/plain": [
       "array(['Dozen', 'Single Unit'], dtype=object)"
      ]
     },
     "execution_count": 197,
     "metadata": {},
     "output_type": "execute_result"
    }
   ],
   "source": [
    "df_products['PackSize'].unique()"
   ]
  },
  {
   "cell_type": "code",
   "execution_count": 198,
   "metadata": {},
   "outputs": [
    {
     "data": {
      "text/plain": [
       "array(['In Production', 'Out of Production'], dtype=object)"
      ]
     },
     "execution_count": 198,
     "metadata": {},
     "output_type": "execute_result"
    }
   ],
   "source": [
    "df_products['Status'].unique()"
   ]
  },
  {
   "cell_type": "code",
   "execution_count": 199,
   "metadata": {},
   "outputs": [
    {
     "data": {
      "text/plain": [
       "array(['7/10/2003', '8/6/2003', '9/17/2003', '9/20/2003', '9/26/2003',\n",
       "       '9/16/2003', '12/31/2003', '9/30/2003', '3/16/2004', '10/15/2003',\n",
       "       '10/25/2003', '1/13/2004', '2/15/2005', '2/9/2004', '1/1/2004',\n",
       "       '2/13/2004', '2/21/2004', '3/18/2004', '4/9/2004', '4/3/2004',\n",
       "       '4/17/2004', '4/26/2004', '5/6/2004', '5/14/2004', '5/17/2004',\n",
       "       '5/25/2004', '5/29/2004', '6/2/2004', '6/1/2004', '6/27/2004',\n",
       "       '11/20/2004', '8/25/2004', '8/28/2004', '7/7/2004', '8/18/2004',\n",
       "       '9/1/2004', '11/4/2004', '8/31/2004', '9/14/2004', '10/11/2004',\n",
       "       '10/26/2004', '10/27/2004', '11/15/2004', '10/29/2004',\n",
       "       '11/3/2004', '11/13/2004', '11/18/2004', '11/19/2004',\n",
       "       '11/22/2004', '12/2/2004', '12/3/2004', '12/15/2004', '12/22/2004',\n",
       "       '1/25/2005', '3/31/2005', '4/19/2005', '4/11/2005', '4/25/2005',\n",
       "       '5/6/2005', '5/18/2005', '6/7/2005', '6/20/2005', '6/22/2005',\n",
       "       '6/29/2005', '7/5/2005', '7/6/2005', '7/13/2005', '7/29/2005',\n",
       "       '7/30/2005', '8/1/2005', '8/4/2005', '8/5/2005', '8/8/2005',\n",
       "       '8/11/2005', '8/16/2005', '8/24/2005', '8/25/2005', '8/30/2005',\n",
       "       '8/31/2005', '9/9/2005', '9/10/2005', '9/19/2005', '9/22/2005',\n",
       "       '9/24/2005', '9/30/2005', '10/6/2005', '10/19/2005', '10/26/2005',\n",
       "       '10/28/2005', '10/31/2005', '11/23/2005', '12/7/2005', '1/12/2006',\n",
       "       '1/23/2006', '2/14/2006', '2/16/2006', '2/18/2006', '2/19/2006',\n",
       "       '2/23/2006', '3/13/2006', '3/14/2006', '3/15/2006', '3/15/2005',\n",
       "       '3/20/2006', '3/21/2006', '3/22/2006', '3/23/2006', '4/3/2006',\n",
       "       '4/4/2006', '4/18/2006'], dtype=object)"
      ]
     },
     "execution_count": 199,
     "metadata": {},
     "output_type": "execute_result"
    }
   ],
   "source": [
    "df_products['InventoryDate'].unique()"
   ]
  },
  {
   "cell_type": "code",
   "execution_count": 200,
   "metadata": {},
   "outputs": [
    {
     "data": {
      "text/plain": [
       "(np.float64(0.4), np.float64(14.0))"
      ]
     },
     "execution_count": 200,
     "metadata": {},
     "output_type": "execute_result"
    }
   ],
   "source": [
    "df_products['PurchasePrice'].min(), df_products['PurchasePrice'].max()"
   ]
  },
  {
   "cell_type": "code",
   "execution_count": 201,
   "metadata": {},
   "outputs": [
    {
     "name": "stdout",
     "output_type": "stream",
     "text": [
      "There are 4168 of products\n",
      "-----------------------\n",
      "\n",
      "Null values: \n",
      "\n",
      "ProductID           0\n",
      "ProductName         0\n",
      "ModelDescription    0\n",
      "Category            0\n",
      "Gender              0\n",
      "ProductLine         0\n",
      "Weight              0\n",
      "Size                0\n",
      "PackSize            0\n",
      "Status              0\n",
      "InventoryDate       0\n",
      "PurchasePrice       0\n",
      "dtype: int64\n",
      "-----------------------\n",
      "\n",
      "Number duplicated rows: 0\n",
      "\n",
      "-----------------------\n",
      "\n",
      "ProductID           4168\n",
      "ProductName         4168\n",
      "ModelDescription     104\n",
      "Category               8\n",
      "Gender                11\n",
      "ProductLine            2\n",
      "Weight               704\n",
      "Size                  19\n",
      "PackSize               2\n",
      "Status                 2\n",
      "InventoryDate        110\n",
      "PurchasePrice        229\n",
      "dtype: int64\n",
      "-----------------------\n",
      "\n",
      "Description: \n",
      "         ProductID       Weight  PurchasePrice\n",
      "count  4168.000000  4168.000000    4168.000000\n",
      "mean   2213.909789   364.810461       4.494602\n",
      "std    1273.275500   243.162759       2.105163\n",
      "min       1.000000    32.000000       0.400000\n",
      "25%    1112.750000   210.000000       3.400000\n",
      "50%    2197.500000   313.500000       4.300000\n",
      "75%    3307.250000   460.000000       5.400000\n",
      "max    4423.000000  2316.000000      14.000000\n",
      "-----------------------\n",
      "\n",
      "ProductID             int64\n",
      "ProductName          object\n",
      "ModelDescription     object\n",
      "Category             object\n",
      "Gender               object\n",
      "ProductLine          object\n",
      "Weight                int64\n",
      "Size                 object\n",
      "PackSize             object\n",
      "Status               object\n",
      "InventoryDate        object\n",
      "PurchasePrice       float64\n",
      "dtype: object\n"
     ]
    }
   ],
   "source": [
    "f.analysis_data(df_products, \"products\")"
   ]
  },
  {
   "cell_type": "code",
   "execution_count": 202,
   "metadata": {},
   "outputs": [],
   "source": [
    "# Create new column\n",
    "\n",
    "df_products['ProductType'] = df_products['ProductName'].str.split('-', expand=True)[1]"
   ]
  },
  {
   "cell_type": "code",
   "execution_count": 203,
   "metadata": {},
   "outputs": [
    {
     "data": {
      "text/plain": [
       "1342"
      ]
     },
     "execution_count": 203,
     "metadata": {},
     "output_type": "execute_result"
    }
   ],
   "source": [
    "df_products['ProductType'].unique()\n",
    "df_products['ProductType'].nunique()"
   ]
  },
  {
   "cell_type": "markdown",
   "metadata": {},
   "source": [
    "### 1.5 Orders"
   ]
  },
  {
   "cell_type": "markdown",
   "metadata": {},
   "source": [
    "Summary:\n",
    "\n",
    "In total, there are 2286 orders \n",
    "\n",
    "- **CustomerID**\n",
    "- **EmployeeID**\n",
    "- **ShippingMethodID**\n",
    "- **OrderDate**: from 2003 to 2006\n",
    "- **ShipDate**: from 2003 to 2006\n",
    "- **FreightCharge**: in range (0-62) --> is the amount paid to a carrier company for the transportation of goods from the point of origin to an agreed location. \n",
    "\n"
   ]
  },
  {
   "cell_type": "code",
   "execution_count": 204,
   "metadata": {},
   "outputs": [
    {
     "data": {
      "text/html": [
       "<div>\n",
       "<style scoped>\n",
       "    .dataframe tbody tr th:only-of-type {\n",
       "        vertical-align: middle;\n",
       "    }\n",
       "\n",
       "    .dataframe tbody tr th {\n",
       "        vertical-align: top;\n",
       "    }\n",
       "\n",
       "    .dataframe thead th {\n",
       "        text-align: right;\n",
       "    }\n",
       "</style>\n",
       "<table border=\"1\" class=\"dataframe\">\n",
       "  <thead>\n",
       "    <tr style=\"text-align: right;\">\n",
       "      <th></th>\n",
       "      <th>OrderID</th>\n",
       "      <th>CustomerID</th>\n",
       "      <th>EmployeeID</th>\n",
       "      <th>ShippingMethodID</th>\n",
       "      <th>OrderDate</th>\n",
       "      <th>ShipDate</th>\n",
       "      <th>FreightCharge</th>\n",
       "    </tr>\n",
       "  </thead>\n",
       "  <tbody>\n",
       "    <tr>\n",
       "      <th>0</th>\n",
       "      <td>2</td>\n",
       "      <td>1</td>\n",
       "      <td>1</td>\n",
       "      <td>1.0</td>\n",
       "      <td>7/10/2003</td>\n",
       "      <td>7/10/2003</td>\n",
       "      <td>0.0</td>\n",
       "    </tr>\n",
       "    <tr>\n",
       "      <th>1</th>\n",
       "      <td>4</td>\n",
       "      <td>2</td>\n",
       "      <td>2</td>\n",
       "      <td>1.0</td>\n",
       "      <td>7/11/2003</td>\n",
       "      <td>7/11/2003</td>\n",
       "      <td>0.0</td>\n",
       "    </tr>\n",
       "    <tr>\n",
       "      <th>2</th>\n",
       "      <td>5</td>\n",
       "      <td>2</td>\n",
       "      <td>1</td>\n",
       "      <td>1.0</td>\n",
       "      <td>7/15/2003</td>\n",
       "      <td>7/15/2003</td>\n",
       "      <td>0.0</td>\n",
       "    </tr>\n",
       "    <tr>\n",
       "      <th>3</th>\n",
       "      <td>6</td>\n",
       "      <td>3</td>\n",
       "      <td>1</td>\n",
       "      <td>1.0</td>\n",
       "      <td>7/14/2003</td>\n",
       "      <td>7/14/2003</td>\n",
       "      <td>0.0</td>\n",
       "    </tr>\n",
       "    <tr>\n",
       "      <th>4</th>\n",
       "      <td>7</td>\n",
       "      <td>4</td>\n",
       "      <td>1</td>\n",
       "      <td>1.0</td>\n",
       "      <td>7/14/2003</td>\n",
       "      <td>7/15/2003</td>\n",
       "      <td>0.0</td>\n",
       "    </tr>\n",
       "    <tr>\n",
       "      <th>...</th>\n",
       "      <td>...</td>\n",
       "      <td>...</td>\n",
       "      <td>...</td>\n",
       "      <td>...</td>\n",
       "      <td>...</td>\n",
       "      <td>...</td>\n",
       "      <td>...</td>\n",
       "    </tr>\n",
       "    <tr>\n",
       "      <th>2281</th>\n",
       "      <td>2466</td>\n",
       "      <td>40</td>\n",
       "      <td>8</td>\n",
       "      <td>1.0</td>\n",
       "      <td>4/14/2006</td>\n",
       "      <td>4/14/2006</td>\n",
       "      <td>0.0</td>\n",
       "    </tr>\n",
       "    <tr>\n",
       "      <th>2282</th>\n",
       "      <td>2467</td>\n",
       "      <td>7</td>\n",
       "      <td>8</td>\n",
       "      <td>1.0</td>\n",
       "      <td>4/14/2006</td>\n",
       "      <td>4/14/2006</td>\n",
       "      <td>0.0</td>\n",
       "    </tr>\n",
       "    <tr>\n",
       "      <th>2283</th>\n",
       "      <td>2468</td>\n",
       "      <td>82</td>\n",
       "      <td>8</td>\n",
       "      <td>1.0</td>\n",
       "      <td>4/18/2006</td>\n",
       "      <td>4/18/2006</td>\n",
       "      <td>31.0</td>\n",
       "    </tr>\n",
       "    <tr>\n",
       "      <th>2284</th>\n",
       "      <td>2469</td>\n",
       "      <td>231</td>\n",
       "      <td>8</td>\n",
       "      <td>1.0</td>\n",
       "      <td>4/19/2006</td>\n",
       "      <td>4/19/2006</td>\n",
       "      <td>0.0</td>\n",
       "    </tr>\n",
       "    <tr>\n",
       "      <th>2285</th>\n",
       "      <td>2470</td>\n",
       "      <td>231</td>\n",
       "      <td>8</td>\n",
       "      <td>1.0</td>\n",
       "      <td>4/20/2006</td>\n",
       "      <td>4/20/2006</td>\n",
       "      <td>0.0</td>\n",
       "    </tr>\n",
       "  </tbody>\n",
       "</table>\n",
       "<p>2286 rows × 7 columns</p>\n",
       "</div>"
      ],
      "text/plain": [
       "      OrderID  CustomerID  EmployeeID  ShippingMethodID  OrderDate   ShipDate  \\\n",
       "0           2           1           1               1.0  7/10/2003  7/10/2003   \n",
       "1           4           2           2               1.0  7/11/2003  7/11/2003   \n",
       "2           5           2           1               1.0  7/15/2003  7/15/2003   \n",
       "3           6           3           1               1.0  7/14/2003  7/14/2003   \n",
       "4           7           4           1               1.0  7/14/2003  7/15/2003   \n",
       "...       ...         ...         ...               ...        ...        ...   \n",
       "2281     2466          40           8               1.0  4/14/2006  4/14/2006   \n",
       "2282     2467           7           8               1.0  4/14/2006  4/14/2006   \n",
       "2283     2468          82           8               1.0  4/18/2006  4/18/2006   \n",
       "2284     2469         231           8               1.0  4/19/2006  4/19/2006   \n",
       "2285     2470         231           8               1.0  4/20/2006  4/20/2006   \n",
       "\n",
       "      FreightCharge  \n",
       "0               0.0  \n",
       "1               0.0  \n",
       "2               0.0  \n",
       "3               0.0  \n",
       "4               0.0  \n",
       "...             ...  \n",
       "2281            0.0  \n",
       "2282            0.0  \n",
       "2283           31.0  \n",
       "2284            0.0  \n",
       "2285            0.0  \n",
       "\n",
       "[2286 rows x 7 columns]"
      ]
     },
     "execution_count": 204,
     "metadata": {},
     "output_type": "execute_result"
    }
   ],
   "source": [
    "df_orders"
   ]
  },
  {
   "cell_type": "code",
   "execution_count": 205,
   "metadata": {},
   "outputs": [
    {
     "name": "stdout",
     "output_type": "stream",
     "text": [
      "There are 2286 of orders\n",
      "-----------------------\n",
      "\n",
      "Null values: \n",
      "\n",
      "OrderID             0\n",
      "CustomerID          0\n",
      "EmployeeID          0\n",
      "ShippingMethodID    8\n",
      "OrderDate           0\n",
      "ShipDate            0\n",
      "FreightCharge       0\n",
      "dtype: int64\n",
      "-----------------------\n",
      "\n",
      "Number duplicated rows: 0\n",
      "\n",
      "-----------------------\n",
      "\n",
      "OrderID             2286\n",
      "CustomerID           222\n",
      "EmployeeID            10\n",
      "ShippingMethodID       2\n",
      "OrderDate            746\n",
      "ShipDate             755\n",
      "FreightCharge         34\n",
      "dtype: int64\n",
      "-----------------------\n",
      "\n",
      "Description: \n",
      "           OrderID   CustomerID   EmployeeID  ShippingMethodID  FreightCharge\n",
      "count  2286.000000  2286.000000  2286.000000       2278.000000    2286.000000\n",
      "mean   1250.100612    60.120735     5.804024          1.001756       6.451470\n",
      "std     713.083431    67.505833     3.683080          0.059248      12.477724\n",
      "min       2.000000     1.000000     1.000000          1.000000       0.000000\n",
      "25%     646.250000     8.000000     2.000000          1.000000       0.000000\n",
      "50%    1264.500000    25.000000     6.000000          1.000000       0.000000\n",
      "75%    1861.750000    86.000000     6.000000          1.000000       0.000000\n",
      "max    2470.000000   247.000000    16.000000          3.000000      62.000000\n",
      "-----------------------\n",
      "\n",
      "OrderID               int64\n",
      "CustomerID            int64\n",
      "EmployeeID            int64\n",
      "ShippingMethodID    float64\n",
      "OrderDate            object\n",
      "ShipDate             object\n",
      "FreightCharge       float64\n",
      "dtype: object\n"
     ]
    }
   ],
   "source": [
    "f.analysis_data(df_orders, \"orders\")"
   ]
  },
  {
   "cell_type": "code",
   "execution_count": 206,
   "metadata": {},
   "outputs": [],
   "source": [
    "# Drop null values \n",
    "df_orders = df_orders.dropna()"
   ]
  },
  {
   "cell_type": "code",
   "execution_count": 207,
   "metadata": {},
   "outputs": [
    {
     "name": "stderr",
     "output_type": "stream",
     "text": [
      "C:\\Users\\Carlota\\AppData\\Local\\Temp\\ipykernel_16100\\1252252510.py:2: SettingWithCopyWarning: \n",
      "A value is trying to be set on a copy of a slice from a DataFrame.\n",
      "Try using .loc[row_indexer,col_indexer] = value instead\n",
      "\n",
      "See the caveats in the documentation: https://pandas.pydata.org/pandas-docs/stable/user_guide/indexing.html#returning-a-view-versus-a-copy\n",
      "  df_orders['ShippingMethodID'] = df_orders['ShippingMethodID'].astype(int)\n"
     ]
    }
   ],
   "source": [
    "# ShippingMethod to int\n",
    "df_orders['ShippingMethodID'] = df_orders['ShippingMethodID'].astype(int)"
   ]
  },
  {
   "cell_type": "code",
   "execution_count": 208,
   "metadata": {},
   "outputs": [
    {
     "data": {
      "text/plain": [
       "(np.float64(0.0), np.float64(62.0))"
      ]
     },
     "execution_count": 208,
     "metadata": {},
     "output_type": "execute_result"
    }
   ],
   "source": [
    "df_orders['FreightCharge'].min(), df_orders['FreightCharge'].max()"
   ]
  },
  {
   "cell_type": "markdown",
   "metadata": {},
   "source": [
    "### 1.6 Order Details"
   ]
  },
  {
   "cell_type": "markdown",
   "metadata": {},
   "source": [
    "Summary: \n",
    "\n",
    "In total, there are 105757 sold products in 2286 purchases\n",
    "\n",
    "- **QuantitySold**: 0 to 612\n",
    "- **UnitSalesPrice:** 0 to 35\n",
    "- **total_price:** (0.0, 2427.6)"
   ]
  },
  {
   "cell_type": "code",
   "execution_count": 209,
   "metadata": {},
   "outputs": [
    {
     "data": {
      "text/html": [
       "<div>\n",
       "<style scoped>\n",
       "    .dataframe tbody tr th:only-of-type {\n",
       "        vertical-align: middle;\n",
       "    }\n",
       "\n",
       "    .dataframe tbody tr th {\n",
       "        vertical-align: top;\n",
       "    }\n",
       "\n",
       "    .dataframe thead th {\n",
       "        text-align: right;\n",
       "    }\n",
       "</style>\n",
       "<table border=\"1\" class=\"dataframe\">\n",
       "  <thead>\n",
       "    <tr style=\"text-align: right;\">\n",
       "      <th></th>\n",
       "      <th>OrderDetailID</th>\n",
       "      <th>OrderID</th>\n",
       "      <th>ProductID</th>\n",
       "      <th>QuantitySold</th>\n",
       "      <th>UnitSalesPrice</th>\n",
       "    </tr>\n",
       "  </thead>\n",
       "  <tbody>\n",
       "    <tr>\n",
       "      <th>0</th>\n",
       "      <td>2</td>\n",
       "      <td>2</td>\n",
       "      <td>955</td>\n",
       "      <td>5</td>\n",
       "      <td>7.5</td>\n",
       "    </tr>\n",
       "    <tr>\n",
       "      <th>1</th>\n",
       "      <td>3</td>\n",
       "      <td>2</td>\n",
       "      <td>958</td>\n",
       "      <td>5</td>\n",
       "      <td>8.5</td>\n",
       "    </tr>\n",
       "    <tr>\n",
       "      <th>2</th>\n",
       "      <td>5</td>\n",
       "      <td>2</td>\n",
       "      <td>959</td>\n",
       "      <td>5</td>\n",
       "      <td>8.5</td>\n",
       "    </tr>\n",
       "    <tr>\n",
       "      <th>3</th>\n",
       "      <td>6</td>\n",
       "      <td>4</td>\n",
       "      <td>72</td>\n",
       "      <td>50</td>\n",
       "      <td>3.0</td>\n",
       "    </tr>\n",
       "    <tr>\n",
       "      <th>4</th>\n",
       "      <td>7</td>\n",
       "      <td>4</td>\n",
       "      <td>9</td>\n",
       "      <td>50</td>\n",
       "      <td>3.2</td>\n",
       "    </tr>\n",
       "    <tr>\n",
       "      <th>...</th>\n",
       "      <td>...</td>\n",
       "      <td>...</td>\n",
       "      <td>...</td>\n",
       "      <td>...</td>\n",
       "      <td>...</td>\n",
       "    </tr>\n",
       "    <tr>\n",
       "      <th>105752</th>\n",
       "      <td>114665</td>\n",
       "      <td>2470</td>\n",
       "      <td>4342</td>\n",
       "      <td>20</td>\n",
       "      <td>1.7</td>\n",
       "    </tr>\n",
       "    <tr>\n",
       "      <th>105753</th>\n",
       "      <td>114666</td>\n",
       "      <td>2470</td>\n",
       "      <td>4419</td>\n",
       "      <td>10</td>\n",
       "      <td>1.9</td>\n",
       "    </tr>\n",
       "    <tr>\n",
       "      <th>105754</th>\n",
       "      <td>114667</td>\n",
       "      <td>2470</td>\n",
       "      <td>4343</td>\n",
       "      <td>20</td>\n",
       "      <td>1.9</td>\n",
       "    </tr>\n",
       "    <tr>\n",
       "      <th>105755</th>\n",
       "      <td>114668</td>\n",
       "      <td>2470</td>\n",
       "      <td>4421</td>\n",
       "      <td>10</td>\n",
       "      <td>2.1</td>\n",
       "    </tr>\n",
       "    <tr>\n",
       "      <th>105756</th>\n",
       "      <td>114669</td>\n",
       "      <td>2470</td>\n",
       "      <td>4344</td>\n",
       "      <td>20</td>\n",
       "      <td>2.0</td>\n",
       "    </tr>\n",
       "  </tbody>\n",
       "</table>\n",
       "<p>105757 rows × 5 columns</p>\n",
       "</div>"
      ],
      "text/plain": [
       "        OrderDetailID  OrderID  ProductID  QuantitySold  UnitSalesPrice\n",
       "0                   2        2        955             5             7.5\n",
       "1                   3        2        958             5             8.5\n",
       "2                   5        2        959             5             8.5\n",
       "3                   6        4         72            50             3.0\n",
       "4                   7        4          9            50             3.2\n",
       "...               ...      ...        ...           ...             ...\n",
       "105752         114665     2470       4342            20             1.7\n",
       "105753         114666     2470       4419            10             1.9\n",
       "105754         114667     2470       4343            20             1.9\n",
       "105755         114668     2470       4421            10             2.1\n",
       "105756         114669     2470       4344            20             2.0\n",
       "\n",
       "[105757 rows x 5 columns]"
      ]
     },
     "execution_count": 209,
     "metadata": {},
     "output_type": "execute_result"
    }
   ],
   "source": [
    "df_order_details"
   ]
  },
  {
   "cell_type": "code",
   "execution_count": 210,
   "metadata": {},
   "outputs": [
    {
     "name": "stdout",
     "output_type": "stream",
     "text": [
      "There are 105757 of order details\n",
      "-----------------------\n",
      "\n",
      "Null values: \n",
      "\n",
      "OrderDetailID     0\n",
      "OrderID           0\n",
      "ProductID         0\n",
      "QuantitySold      0\n",
      "UnitSalesPrice    0\n",
      "dtype: int64\n",
      "-----------------------\n",
      "\n",
      "Number duplicated rows: 0\n",
      "\n",
      "-----------------------\n",
      "\n",
      "OrderDetailID     105757\n",
      "OrderID             2286\n",
      "ProductID           4042\n",
      "QuantitySold         165\n",
      "UnitSalesPrice       237\n",
      "dtype: int64\n",
      "-----------------------\n",
      "\n",
      "Description: \n",
      "       OrderDetailID        OrderID      ProductID   QuantitySold  \\\n",
      "count  105757.000000  105757.000000  105757.000000  105757.000000   \n",
      "mean    57640.985637    1408.270724    1318.742050       6.467714   \n",
      "std     33255.220484     677.963001    1027.571729       9.572008   \n",
      "min         2.000000       2.000000       1.000000       0.000000   \n",
      "25%     28762.000000     843.000000     566.000000       1.000000   \n",
      "50%     58024.000000    1470.000000     988.000000       4.000000   \n",
      "75%     86424.000000    1999.000000    1942.000000      10.000000   \n",
      "max    114669.000000    2470.000000    4423.000000     612.000000   \n",
      "\n",
      "       UnitSalesPrice  \n",
      "count   105757.000000  \n",
      "mean         6.789183  \n",
      "std          3.061123  \n",
      "min          0.000000  \n",
      "25%          4.800000  \n",
      "50%          6.300000  \n",
      "75%          8.200000  \n",
      "max         35.000000  \n",
      "-----------------------\n",
      "\n",
      "OrderDetailID       int64\n",
      "OrderID             int64\n",
      "ProductID           int64\n",
      "QuantitySold        int64\n",
      "UnitSalesPrice    float64\n",
      "dtype: object\n"
     ]
    }
   ],
   "source": [
    "f.analysis_data(df_order_details, \"order details\")"
   ]
  },
  {
   "cell_type": "code",
   "execution_count": 211,
   "metadata": {},
   "outputs": [],
   "source": [
    "df_order_details['total_price'] = df_order_details['UnitSalesPrice'] * df_order_details['QuantitySold']"
   ]
  },
  {
   "cell_type": "code",
   "execution_count": 212,
   "metadata": {},
   "outputs": [
    {
     "data": {
      "text/plain": [
       "(np.float64(0.0), np.float64(2427.6))"
      ]
     },
     "execution_count": 212,
     "metadata": {},
     "output_type": "execute_result"
    }
   ],
   "source": [
    "df_order_details['total_price'].min(), df_order_details['total_price'].max()"
   ]
  },
  {
   "cell_type": "markdown",
   "metadata": {},
   "source": [
    "### 1.7 Payments"
   ]
  },
  {
   "cell_type": "markdown",
   "metadata": {},
   "source": [
    "Summary:\n",
    "\n",
    "- **total payments :** 685 (not all orders have a payment register)\n",
    "- **payment date:** from 2003 to 2005\n",
    "- **payment amount:** 0.0 - 20534.7"
   ]
  },
  {
   "cell_type": "code",
   "execution_count": 213,
   "metadata": {},
   "outputs": [
    {
     "data": {
      "text/html": [
       "<div>\n",
       "<style scoped>\n",
       "    .dataframe tbody tr th:only-of-type {\n",
       "        vertical-align: middle;\n",
       "    }\n",
       "\n",
       "    .dataframe tbody tr th {\n",
       "        vertical-align: top;\n",
       "    }\n",
       "\n",
       "    .dataframe thead th {\n",
       "        text-align: right;\n",
       "    }\n",
       "</style>\n",
       "<table border=\"1\" class=\"dataframe\">\n",
       "  <thead>\n",
       "    <tr style=\"text-align: right;\">\n",
       "      <th></th>\n",
       "      <th>PaymentID</th>\n",
       "      <th>OrderID</th>\n",
       "      <th>PaymentMethodID</th>\n",
       "      <th>PaymentDate</th>\n",
       "      <th>PaymentAmount</th>\n",
       "    </tr>\n",
       "  </thead>\n",
       "  <tbody>\n",
       "    <tr>\n",
       "      <th>0</th>\n",
       "      <td>1</td>\n",
       "      <td>2</td>\n",
       "      <td>1.0</td>\n",
       "      <td>7/10/2003</td>\n",
       "      <td>603.50</td>\n",
       "    </tr>\n",
       "    <tr>\n",
       "      <th>1</th>\n",
       "      <td>2</td>\n",
       "      <td>4</td>\n",
       "      <td>1.0</td>\n",
       "      <td>7/12/2003</td>\n",
       "      <td>1,288.00</td>\n",
       "    </tr>\n",
       "    <tr>\n",
       "      <th>2</th>\n",
       "      <td>4</td>\n",
       "      <td>5</td>\n",
       "      <td>1.0</td>\n",
       "      <td>7/15/2003</td>\n",
       "      <td>1,800.00</td>\n",
       "    </tr>\n",
       "    <tr>\n",
       "      <th>3</th>\n",
       "      <td>5</td>\n",
       "      <td>6</td>\n",
       "      <td>1.0</td>\n",
       "      <td>7/14/2003</td>\n",
       "      <td>389.50</td>\n",
       "    </tr>\n",
       "    <tr>\n",
       "      <th>4</th>\n",
       "      <td>6</td>\n",
       "      <td>7</td>\n",
       "      <td>1.0</td>\n",
       "      <td>7/15/2003</td>\n",
       "      <td>1,479.00</td>\n",
       "    </tr>\n",
       "    <tr>\n",
       "      <th>...</th>\n",
       "      <td>...</td>\n",
       "      <td>...</td>\n",
       "      <td>...</td>\n",
       "      <td>...</td>\n",
       "      <td>...</td>\n",
       "    </tr>\n",
       "    <tr>\n",
       "      <th>681</th>\n",
       "      <td>695</td>\n",
       "      <td>1526</td>\n",
       "      <td>1.0</td>\n",
       "      <td>3/1/2005</td>\n",
       "      <td>4,409.80</td>\n",
       "    </tr>\n",
       "    <tr>\n",
       "      <th>682</th>\n",
       "      <td>696</td>\n",
       "      <td>1531</td>\n",
       "      <td>1.0</td>\n",
       "      <td>3/1/2005</td>\n",
       "      <td>1,318.00</td>\n",
       "    </tr>\n",
       "    <tr>\n",
       "      <th>683</th>\n",
       "      <td>697</td>\n",
       "      <td>1541</td>\n",
       "      <td>1.0</td>\n",
       "      <td>3/9/2005</td>\n",
       "      <td>954.95</td>\n",
       "    </tr>\n",
       "    <tr>\n",
       "      <th>684</th>\n",
       "      <td>698</td>\n",
       "      <td>1546</td>\n",
       "      <td>1.0</td>\n",
       "      <td>3/11/2005</td>\n",
       "      <td>1,233.00</td>\n",
       "    </tr>\n",
       "    <tr>\n",
       "      <th>685</th>\n",
       "      <td>699</td>\n",
       "      <td>1662</td>\n",
       "      <td>1.0</td>\n",
       "      <td>6/4/2005</td>\n",
       "      <td>2,163.60</td>\n",
       "    </tr>\n",
       "  </tbody>\n",
       "</table>\n",
       "<p>686 rows × 5 columns</p>\n",
       "</div>"
      ],
      "text/plain": [
       "     PaymentID  OrderID  PaymentMethodID PaymentDate PaymentAmount\n",
       "0            1        2              1.0   7/10/2003        603.50\n",
       "1            2        4              1.0   7/12/2003      1,288.00\n",
       "2            4        5              1.0   7/15/2003      1,800.00\n",
       "3            5        6              1.0   7/14/2003        389.50\n",
       "4            6        7              1.0   7/15/2003      1,479.00\n",
       "..         ...      ...              ...         ...           ...\n",
       "681        695     1526              1.0    3/1/2005      4,409.80\n",
       "682        696     1531              1.0    3/1/2005      1,318.00\n",
       "683        697     1541              1.0    3/9/2005        954.95\n",
       "684        698     1546              1.0   3/11/2005      1,233.00\n",
       "685        699     1662              1.0    6/4/2005      2,163.60\n",
       "\n",
       "[686 rows x 5 columns]"
      ]
     },
     "execution_count": 213,
     "metadata": {},
     "output_type": "execute_result"
    }
   ],
   "source": [
    "df_payments"
   ]
  },
  {
   "cell_type": "code",
   "execution_count": 214,
   "metadata": {},
   "outputs": [
    {
     "name": "stdout",
     "output_type": "stream",
     "text": [
      "There are 686 of payments\n",
      "-----------------------\n",
      "\n",
      "Null values: \n",
      "\n",
      "PaymentID          0\n",
      "OrderID            0\n",
      "PaymentMethodID    1\n",
      "PaymentDate        0\n",
      "PaymentAmount      1\n",
      "dtype: int64\n",
      "-----------------------\n",
      "\n",
      "Number duplicated rows: 0\n",
      "\n",
      "-----------------------\n",
      "\n",
      "PaymentID          686\n",
      "OrderID            658\n",
      "PaymentMethodID      2\n",
      "PaymentDate        225\n",
      "PaymentAmount      672\n",
      "dtype: int64\n",
      "-----------------------\n",
      "\n",
      "Description: \n",
      "        PaymentID      OrderID  PaymentMethodID\n",
      "count  686.000000   686.000000       685.000000\n",
      "mean   353.303207   378.440233         1.054015\n",
      "std    201.715659   257.742929         0.226212\n",
      "min      1.000000     2.000000         1.000000\n",
      "25%    181.250000   178.250000         1.000000\n",
      "50%    355.500000   359.500000         1.000000\n",
      "75%    527.750000   566.750000         1.000000\n",
      "max    699.000000  1864.000000         2.000000\n",
      "-----------------------\n",
      "\n",
      "PaymentID            int64\n",
      "OrderID              int64\n",
      "PaymentMethodID    float64\n",
      "PaymentDate         object\n",
      "PaymentAmount       object\n",
      "dtype: object\n"
     ]
    }
   ],
   "source": [
    "f.analysis_data(df_payments, 'payments')"
   ]
  },
  {
   "cell_type": "code",
   "execution_count": 215,
   "metadata": {},
   "outputs": [],
   "source": [
    "# drop null\n",
    "\n",
    "df_payments = df_payments.dropna()"
   ]
  },
  {
   "cell_type": "code",
   "execution_count": 216,
   "metadata": {},
   "outputs": [
    {
     "name": "stderr",
     "output_type": "stream",
     "text": [
      "C:\\Users\\Carlota\\AppData\\Local\\Temp\\ipykernel_16100\\1916110609.py:1: SettingWithCopyWarning: \n",
      "A value is trying to be set on a copy of a slice from a DataFrame.\n",
      "Try using .loc[row_indexer,col_indexer] = value instead\n",
      "\n",
      "See the caveats in the documentation: https://pandas.pydata.org/pandas-docs/stable/user_guide/indexing.html#returning-a-view-versus-a-copy\n",
      "  df_payments['PaymentMethodID'] = df_payments['PaymentMethodID'].astype(int)\n"
     ]
    }
   ],
   "source": [
    "df_payments['PaymentMethodID'] = df_payments['PaymentMethodID'].astype(int)"
   ]
  },
  {
   "cell_type": "code",
   "execution_count": 217,
   "metadata": {},
   "outputs": [
    {
     "data": {
      "text/plain": [
       "array(['7/10/2003', '7/12/2003', '7/15/2003', '7/14/2003', '7/16/2003',\n",
       "       '7/17/2003', '7/18/2003', '7/19/2003', '7/21/2003', '7/22/2003',\n",
       "       '7/23/2003', '7/24/2003', '7/25/2003', '7/28/2003', '7/29/2003',\n",
       "       '7/30/2003', '7/31/2003', '8/1/2003', '8/2/2003', '8/5/2003',\n",
       "       '8/6/2003', '8/7/2003', '8/8/2003', '8/9/2003', '8/11/2003',\n",
       "       '8/12/2003', '8/13/2003', '8/14/2003', '8/15/2003', '8/16/2003',\n",
       "       '8/18/2003', '8/19/2003', '8/20/2003', '8/22/2003', '8/23/2003',\n",
       "       '8/25/2003', '8/26/2003', '8/27/2003', '8/28/2003', '8/29/2003',\n",
       "       '8/30/2003', '9/2/2003', '9/1/2003', '9/3/2003', '9/4/2003',\n",
       "       '9/5/2003', '9/6/2003', '9/9/2003', '9/10/2003', '9/11/2003',\n",
       "       '9/12/2003', '9/15/2003', '9/16/2003', '9/13/2003', '9/17/2003',\n",
       "       '9/18/2003', '9/19/2003', '9/23/2003', '9/24/2003', '9/25/2003',\n",
       "       '9/26/2003', '9/29/2003', '9/27/2003', '10/1/2003', '9/30/2003',\n",
       "       '10/2/2003', '10/3/2003', '10/6/2003', '10/7/2003', '10/8/2003',\n",
       "       '10/9/2003', '10/10/2003', '10/13/2003', '10/14/2003',\n",
       "       '10/15/2003', '10/16/2003', '10/18/2003', '10/17/2003',\n",
       "       '10/20/2003', '10/21/2003', '10/22/2003', '10/23/2003',\n",
       "       '10/24/2003', '10/25/2003', '10/27/2003', '10/28/2003',\n",
       "       '10/29/2003', '10/30/2003', '10/31/2003', '11/3/2003', '11/4/2003',\n",
       "       '11/5/2003', '11/6/2003', '11/1/2003', '11/7/2003', '11/10/2003',\n",
       "       '11/11/2003', '11/12/2003', '11/13/2003', '11/14/2003',\n",
       "       '11/17/2003', '11/18/2003', '11/19/2003', '11/20/2003',\n",
       "       '11/21/2003', '11/22/2003', '11/24/2003', '11/25/2003',\n",
       "       '11/26/2003', '11/28/2003', '12/1/2003', '11/29/2003', '12/2/2003',\n",
       "       '12/3/2003', '12/6/2003', '12/8/2003', '12/9/2003', '12/10/2003',\n",
       "       '12/12/2003', '12/15/2003', '12/16/2003', '12/18/2003',\n",
       "       '12/19/2003', '12/20/2003', '12/22/2003', '12/23/2003',\n",
       "       '12/24/2003', '12/25/2003', '12/26/2003', '12/27/2003',\n",
       "       '12/30/2003', '1/5/2004', '1/10/2004', '1/14/2004', '1/13/2004',\n",
       "       '1/12/2004', '1/15/2004', '1/16/2004', '1/19/2004', '1/20/2004',\n",
       "       '1/23/2004', '1/24/2004', '1/26/2004', '1/28/2004', '1/30/2004',\n",
       "       '1/31/2004', '2/3/2004', '2/6/2004', '2/4/2004', '2/5/2004',\n",
       "       '2/2/2004', '2/7/2004', '2/9/2004', '2/10/2004', '2/20/2004',\n",
       "       '2/16/2004', '2/14/2004', '2/13/2004', '2/18/2004', '2/12/2004',\n",
       "       '2/11/2004', '2/19/2004', '2/17/2004', '2/21/2004', '2/24/2004',\n",
       "       '2/27/2004', '2/25/2004', '3/2/2004', '2/28/2004', '2/26/2004',\n",
       "       '3/1/2004', '2/23/2004', '3/3/2004', '3/22/2004', '3/24/2004',\n",
       "       '3/4/2004', '3/5/2004', '3/17/2004', '3/12/2004', '3/26/2004',\n",
       "       '4/9/2004', '3/6/2004', '3/15/2004', '3/11/2004', '3/16/2004',\n",
       "       '3/18/2004', '3/19/2004', '3/23/2004', '4/2/2004', '4/10/2004',\n",
       "       '3/25/2004', '4/1/2004', '3/13/2004', '4/3/2004', '3/29/2004',\n",
       "       '3/30/2004', '4/5/2004', '3/9/2004', '4/6/2003', '4/6/2004',\n",
       "       '4/22/2004', '3/10/2004', '4/29/2004', '4/19/2004', '4/15/2004',\n",
       "       '4/7/2004', '4/23/2004', '4/14/2004', '4/12/2004', '4/13/2004',\n",
       "       '4/8/2004', '4/21/2004', '4/20/2004', '4/17/2004', '4/16/2004',\n",
       "       '5/5/2004', '5/17/2004', '5/19/2004', '8/22/2005', '9/10/2005',\n",
       "       '2/22/2005', '3/1/2005', '3/9/2005', '3/11/2005', '6/4/2005'],\n",
       "      dtype=object)"
      ]
     },
     "execution_count": 217,
     "metadata": {},
     "output_type": "execute_result"
    }
   ],
   "source": [
    "df_payments['PaymentDate'].unique()"
   ]
  },
  {
   "cell_type": "code",
   "execution_count": 218,
   "metadata": {},
   "outputs": [
    {
     "data": {
      "text/plain": [
       "0        603.50\n",
       "1      1,288.00\n",
       "2      1,800.00\n",
       "3        389.50\n",
       "4      1,479.00\n",
       "         ...   \n",
       "681    4,409.80\n",
       "682    1,318.00\n",
       "683      954.95\n",
       "684    1,233.00\n",
       "685    2,163.60\n",
       "Name: PaymentAmount, Length: 684, dtype: object"
      ]
     },
     "execution_count": 218,
     "metadata": {},
     "output_type": "execute_result"
    }
   ],
   "source": [
    "df_payments['PaymentAmount']"
   ]
  },
  {
   "cell_type": "code",
   "execution_count": 219,
   "metadata": {},
   "outputs": [
    {
     "name": "stderr",
     "output_type": "stream",
     "text": [
      "C:\\Users\\Carlota\\AppData\\Local\\Temp\\ipykernel_16100\\3834569737.py:2: SettingWithCopyWarning: \n",
      "A value is trying to be set on a copy of a slice from a DataFrame.\n",
      "Try using .loc[row_indexer,col_indexer] = value instead\n",
      "\n",
      "See the caveats in the documentation: https://pandas.pydata.org/pandas-docs/stable/user_guide/indexing.html#returning-a-view-versus-a-copy\n",
      "  df_payments['PaymentAmount'] = df_payments['PaymentAmount'].str.replace(',', '')\n",
      "C:\\Users\\Carlota\\AppData\\Local\\Temp\\ipykernel_16100\\3834569737.py:3: SettingWithCopyWarning: \n",
      "A value is trying to be set on a copy of a slice from a DataFrame.\n",
      "Try using .loc[row_indexer,col_indexer] = value instead\n",
      "\n",
      "See the caveats in the documentation: https://pandas.pydata.org/pandas-docs/stable/user_guide/indexing.html#returning-a-view-versus-a-copy\n",
      "  df_payments['PaymentAmount'] = df_payments['PaymentAmount'].astype(float)\n"
     ]
    }
   ],
   "source": [
    "# Convert to float payment amount\n",
    "df_payments['PaymentAmount'] = df_payments['PaymentAmount'].str.replace(',', '')\n",
    "df_payments['PaymentAmount'] = df_payments['PaymentAmount'].astype(float)"
   ]
  },
  {
   "cell_type": "code",
   "execution_count": 220,
   "metadata": {},
   "outputs": [
    {
     "data": {
      "text/plain": [
       "(np.float64(0.0), np.float64(20534.7))"
      ]
     },
     "execution_count": 220,
     "metadata": {},
     "output_type": "execute_result"
    }
   ],
   "source": [
    "df_payments['PaymentAmount'].min(), df_payments['PaymentAmount'].max()"
   ]
  },
  {
   "cell_type": "markdown",
   "metadata": {},
   "source": [
    "### 1.8 Payment Methods"
   ]
  },
  {
   "cell_type": "code",
   "execution_count": 221,
   "metadata": {},
   "outputs": [
    {
     "data": {
      "text/html": [
       "<div>\n",
       "<style scoped>\n",
       "    .dataframe tbody tr th:only-of-type {\n",
       "        vertical-align: middle;\n",
       "    }\n",
       "\n",
       "    .dataframe tbody tr th {\n",
       "        vertical-align: top;\n",
       "    }\n",
       "\n",
       "    .dataframe thead th {\n",
       "        text-align: right;\n",
       "    }\n",
       "</style>\n",
       "<table border=\"1\" class=\"dataframe\">\n",
       "  <thead>\n",
       "    <tr style=\"text-align: right;\">\n",
       "      <th></th>\n",
       "      <th>PaymentMethodID</th>\n",
       "      <th>PaymentMethod</th>\n",
       "    </tr>\n",
       "  </thead>\n",
       "  <tbody>\n",
       "    <tr>\n",
       "      <th>0</th>\n",
       "      <td>1</td>\n",
       "      <td>Cash</td>\n",
       "    </tr>\n",
       "    <tr>\n",
       "      <th>1</th>\n",
       "      <td>2</td>\n",
       "      <td>Bank Transfer</td>\n",
       "    </tr>\n",
       "    <tr>\n",
       "      <th>2</th>\n",
       "      <td>3</td>\n",
       "      <td>On Credit</td>\n",
       "    </tr>\n",
       "  </tbody>\n",
       "</table>\n",
       "</div>"
      ],
      "text/plain": [
       "   PaymentMethodID  PaymentMethod\n",
       "0                1           Cash\n",
       "1                2  Bank Transfer\n",
       "2                3      On Credit"
      ]
     },
     "execution_count": 221,
     "metadata": {},
     "output_type": "execute_result"
    }
   ],
   "source": [
    "df_payment_methods"
   ]
  },
  {
   "cell_type": "code",
   "execution_count": 222,
   "metadata": {},
   "outputs": [
    {
     "name": "stdout",
     "output_type": "stream",
     "text": [
      "There are 3 of payments methods\n",
      "-----------------------\n",
      "\n",
      "Null values: \n",
      "\n",
      "PaymentMethodID    0\n",
      "PaymentMethod      0\n",
      "dtype: int64\n",
      "-----------------------\n",
      "\n",
      "Number duplicated rows: 0\n",
      "\n",
      "-----------------------\n",
      "\n",
      "PaymentMethodID    3\n",
      "PaymentMethod      3\n",
      "dtype: int64\n",
      "-----------------------\n",
      "\n",
      "Description: \n",
      "       PaymentMethodID\n",
      "count              3.0\n",
      "mean               2.0\n",
      "std                1.0\n",
      "min                1.0\n",
      "25%                1.5\n",
      "50%                2.0\n",
      "75%                2.5\n",
      "max                3.0\n",
      "-----------------------\n",
      "\n",
      "PaymentMethodID     int64\n",
      "PaymentMethod      object\n",
      "dtype: object\n"
     ]
    }
   ],
   "source": [
    "f.analysis_data(df_payment_methods, 'payments methods')"
   ]
  },
  {
   "cell_type": "code",
   "execution_count": 223,
   "metadata": {},
   "outputs": [],
   "source": [
    "df_total_payments = pd.merge(df_payment_methods, df_payments, on='PaymentMethodID', how='outer')"
   ]
  },
  {
   "cell_type": "code",
   "execution_count": 224,
   "metadata": {},
   "outputs": [],
   "source": [
    "df_total_payments = df_total_payments.drop(columns='PaymentMethodID')"
   ]
  },
  {
   "cell_type": "code",
   "execution_count": 225,
   "metadata": {},
   "outputs": [
    {
     "data": {
      "text/html": [
       "<div>\n",
       "<style scoped>\n",
       "    .dataframe tbody tr th:only-of-type {\n",
       "        vertical-align: middle;\n",
       "    }\n",
       "\n",
       "    .dataframe tbody tr th {\n",
       "        vertical-align: top;\n",
       "    }\n",
       "\n",
       "    .dataframe thead th {\n",
       "        text-align: right;\n",
       "    }\n",
       "</style>\n",
       "<table border=\"1\" class=\"dataframe\">\n",
       "  <thead>\n",
       "    <tr style=\"text-align: right;\">\n",
       "      <th></th>\n",
       "      <th>PaymentMethod</th>\n",
       "      <th>PaymentID</th>\n",
       "      <th>OrderID</th>\n",
       "      <th>PaymentDate</th>\n",
       "      <th>PaymentAmount</th>\n",
       "    </tr>\n",
       "  </thead>\n",
       "  <tbody>\n",
       "    <tr>\n",
       "      <th>0</th>\n",
       "      <td>Cash</td>\n",
       "      <td>1.0</td>\n",
       "      <td>2.0</td>\n",
       "      <td>7/10/2003</td>\n",
       "      <td>603.50</td>\n",
       "    </tr>\n",
       "    <tr>\n",
       "      <th>1</th>\n",
       "      <td>Cash</td>\n",
       "      <td>2.0</td>\n",
       "      <td>4.0</td>\n",
       "      <td>7/12/2003</td>\n",
       "      <td>1288.00</td>\n",
       "    </tr>\n",
       "    <tr>\n",
       "      <th>2</th>\n",
       "      <td>Cash</td>\n",
       "      <td>4.0</td>\n",
       "      <td>5.0</td>\n",
       "      <td>7/15/2003</td>\n",
       "      <td>1800.00</td>\n",
       "    </tr>\n",
       "    <tr>\n",
       "      <th>3</th>\n",
       "      <td>Cash</td>\n",
       "      <td>5.0</td>\n",
       "      <td>6.0</td>\n",
       "      <td>7/14/2003</td>\n",
       "      <td>389.50</td>\n",
       "    </tr>\n",
       "    <tr>\n",
       "      <th>4</th>\n",
       "      <td>Cash</td>\n",
       "      <td>6.0</td>\n",
       "      <td>7.0</td>\n",
       "      <td>7/15/2003</td>\n",
       "      <td>1479.00</td>\n",
       "    </tr>\n",
       "    <tr>\n",
       "      <th>...</th>\n",
       "      <td>...</td>\n",
       "      <td>...</td>\n",
       "      <td>...</td>\n",
       "      <td>...</td>\n",
       "      <td>...</td>\n",
       "    </tr>\n",
       "    <tr>\n",
       "      <th>680</th>\n",
       "      <td>Bank Transfer</td>\n",
       "      <td>624.0</td>\n",
       "      <td>696.0</td>\n",
       "      <td>4/1/2004</td>\n",
       "      <td>1502.17</td>\n",
       "    </tr>\n",
       "    <tr>\n",
       "      <th>681</th>\n",
       "      <td>Bank Transfer</td>\n",
       "      <td>676.0</td>\n",
       "      <td>678.0</td>\n",
       "      <td>3/30/2004</td>\n",
       "      <td>313.70</td>\n",
       "    </tr>\n",
       "    <tr>\n",
       "      <th>682</th>\n",
       "      <td>Bank Transfer</td>\n",
       "      <td>682.0</td>\n",
       "      <td>709.0</td>\n",
       "      <td>4/8/2004</td>\n",
       "      <td>3263.70</td>\n",
       "    </tr>\n",
       "    <tr>\n",
       "      <th>683</th>\n",
       "      <td>Bank Transfer</td>\n",
       "      <td>691.0</td>\n",
       "      <td>789.0</td>\n",
       "      <td>5/19/2004</td>\n",
       "      <td>1595.50</td>\n",
       "    </tr>\n",
       "    <tr>\n",
       "      <th>684</th>\n",
       "      <td>On Credit</td>\n",
       "      <td>NaN</td>\n",
       "      <td>NaN</td>\n",
       "      <td>NaN</td>\n",
       "      <td>NaN</td>\n",
       "    </tr>\n",
       "  </tbody>\n",
       "</table>\n",
       "<p>685 rows × 5 columns</p>\n",
       "</div>"
      ],
      "text/plain": [
       "     PaymentMethod  PaymentID  OrderID PaymentDate  PaymentAmount\n",
       "0             Cash        1.0      2.0   7/10/2003         603.50\n",
       "1             Cash        2.0      4.0   7/12/2003        1288.00\n",
       "2             Cash        4.0      5.0   7/15/2003        1800.00\n",
       "3             Cash        5.0      6.0   7/14/2003         389.50\n",
       "4             Cash        6.0      7.0   7/15/2003        1479.00\n",
       "..             ...        ...      ...         ...            ...\n",
       "680  Bank Transfer      624.0    696.0    4/1/2004        1502.17\n",
       "681  Bank Transfer      676.0    678.0   3/30/2004         313.70\n",
       "682  Bank Transfer      682.0    709.0    4/8/2004        3263.70\n",
       "683  Bank Transfer      691.0    789.0   5/19/2004        1595.50\n",
       "684      On Credit        NaN      NaN         NaN            NaN\n",
       "\n",
       "[685 rows x 5 columns]"
      ]
     },
     "execution_count": 225,
     "metadata": {},
     "output_type": "execute_result"
    }
   ],
   "source": [
    "df_total_payments"
   ]
  },
  {
   "cell_type": "code",
   "execution_count": 226,
   "metadata": {},
   "outputs": [
    {
     "data": {
      "text/plain": [
       "PaymentMethod    0\n",
       "PaymentID        1\n",
       "OrderID          1\n",
       "PaymentDate      1\n",
       "PaymentAmount    1\n",
       "dtype: int64"
      ]
     },
     "execution_count": 226,
     "metadata": {},
     "output_type": "execute_result"
    }
   ],
   "source": [
    "df_total_payments.isna().sum()"
   ]
  },
  {
   "cell_type": "code",
   "execution_count": 227,
   "metadata": {},
   "outputs": [],
   "source": [
    "df_total_payments = df_total_payments.dropna()"
   ]
  },
  {
   "cell_type": "markdown",
   "metadata": {},
   "source": [
    "### 1.9 Shipping Methods"
   ]
  },
  {
   "cell_type": "code",
   "execution_count": 228,
   "metadata": {},
   "outputs": [
    {
     "data": {
      "text/html": [
       "<div>\n",
       "<style scoped>\n",
       "    .dataframe tbody tr th:only-of-type {\n",
       "        vertical-align: middle;\n",
       "    }\n",
       "\n",
       "    .dataframe tbody tr th {\n",
       "        vertical-align: top;\n",
       "    }\n",
       "\n",
       "    .dataframe thead th {\n",
       "        text-align: right;\n",
       "    }\n",
       "</style>\n",
       "<table border=\"1\" class=\"dataframe\">\n",
       "  <thead>\n",
       "    <tr style=\"text-align: right;\">\n",
       "      <th></th>\n",
       "      <th>ShippingMethodID</th>\n",
       "      <th>ShippingMethod</th>\n",
       "    </tr>\n",
       "  </thead>\n",
       "  <tbody>\n",
       "    <tr>\n",
       "      <th>0</th>\n",
       "      <td>1</td>\n",
       "      <td>Ex Works</td>\n",
       "    </tr>\n",
       "    <tr>\n",
       "      <th>1</th>\n",
       "      <td>2</td>\n",
       "      <td>Door to Door Service</td>\n",
       "    </tr>\n",
       "    <tr>\n",
       "      <th>2</th>\n",
       "      <td>3</td>\n",
       "      <td>Container</td>\n",
       "    </tr>\n",
       "    <tr>\n",
       "      <th>3</th>\n",
       "      <td>4</td>\n",
       "      <td>Truck</td>\n",
       "    </tr>\n",
       "  </tbody>\n",
       "</table>\n",
       "</div>"
      ],
      "text/plain": [
       "   ShippingMethodID        ShippingMethod\n",
       "0                 1              Ex Works\n",
       "1                 2  Door to Door Service\n",
       "2                 3             Container\n",
       "3                 4                 Truck"
      ]
     },
     "execution_count": 228,
     "metadata": {},
     "output_type": "execute_result"
    }
   ],
   "source": [
    "df_shipping_methods"
   ]
  },
  {
   "cell_type": "code",
   "execution_count": 229,
   "metadata": {},
   "outputs": [
    {
     "name": "stdout",
     "output_type": "stream",
     "text": [
      "There are 4 of shipping methods\n",
      "-----------------------\n",
      "\n",
      "Null values: \n",
      "\n",
      "ShippingMethodID    0\n",
      "ShippingMethod      0\n",
      "dtype: int64\n",
      "-----------------------\n",
      "\n",
      "Number duplicated rows: 0\n",
      "\n",
      "-----------------------\n",
      "\n",
      "ShippingMethodID    4\n",
      "ShippingMethod      4\n",
      "dtype: int64\n",
      "-----------------------\n",
      "\n",
      "Description: \n",
      "       ShippingMethodID\n",
      "count          4.000000\n",
      "mean           2.500000\n",
      "std            1.290994\n",
      "min            1.000000\n",
      "25%            1.750000\n",
      "50%            2.500000\n",
      "75%            3.250000\n",
      "max            4.000000\n",
      "-----------------------\n",
      "\n",
      "ShippingMethodID     int64\n",
      "ShippingMethod      object\n",
      "dtype: object\n"
     ]
    }
   ],
   "source": [
    "f.analysis_data(df_shipping_methods, 'shipping methods')"
   ]
  },
  {
   "cell_type": "markdown",
   "metadata": {},
   "source": [
    "### 1.10 Suppliers"
   ]
  },
  {
   "cell_type": "code",
   "execution_count": 230,
   "metadata": {},
   "outputs": [
    {
     "data": {
      "text/html": [
       "<div>\n",
       "<style scoped>\n",
       "    .dataframe tbody tr th:only-of-type {\n",
       "        vertical-align: middle;\n",
       "    }\n",
       "\n",
       "    .dataframe tbody tr th {\n",
       "        vertical-align: top;\n",
       "    }\n",
       "\n",
       "    .dataframe thead th {\n",
       "        text-align: right;\n",
       "    }\n",
       "</style>\n",
       "<table border=\"1\" class=\"dataframe\">\n",
       "  <thead>\n",
       "    <tr style=\"text-align: right;\">\n",
       "      <th></th>\n",
       "      <th>SupplierID</th>\n",
       "      <th>SupplierName</th>\n",
       "    </tr>\n",
       "  </thead>\n",
       "  <tbody>\n",
       "    <tr>\n",
       "      <th>0</th>\n",
       "      <td>1</td>\n",
       "      <td>S1</td>\n",
       "    </tr>\n",
       "    <tr>\n",
       "      <th>1</th>\n",
       "      <td>2</td>\n",
       "      <td>S2</td>\n",
       "    </tr>\n",
       "  </tbody>\n",
       "</table>\n",
       "</div>"
      ],
      "text/plain": [
       "   SupplierID SupplierName\n",
       "0           1           S1\n",
       "1           2           S2"
      ]
     },
     "execution_count": 230,
     "metadata": {},
     "output_type": "execute_result"
    }
   ],
   "source": [
    "df_suppliers"
   ]
  },
  {
   "cell_type": "code",
   "execution_count": 231,
   "metadata": {},
   "outputs": [
    {
     "name": "stdout",
     "output_type": "stream",
     "text": [
      "There are 2 of suppliers\n",
      "-----------------------\n",
      "\n",
      "Null values: \n",
      "\n",
      "SupplierID      0\n",
      "SupplierName    0\n",
      "dtype: int64\n",
      "-----------------------\n",
      "\n",
      "Number duplicated rows: 0\n",
      "\n",
      "-----------------------\n",
      "\n",
      "SupplierID      2\n",
      "SupplierName    2\n",
      "dtype: int64\n",
      "-----------------------\n",
      "\n",
      "Description: \n",
      "       SupplierID\n",
      "count    2.000000\n",
      "mean     1.500000\n",
      "std      0.707107\n",
      "min      1.000000\n",
      "25%      1.250000\n",
      "50%      1.500000\n",
      "75%      1.750000\n",
      "max      2.000000\n",
      "-----------------------\n",
      "\n",
      "SupplierID       int64\n",
      "SupplierName    object\n",
      "dtype: object\n"
     ]
    }
   ],
   "source": [
    "f.analysis_data(df_suppliers, \"suppliers\")"
   ]
  },
  {
   "cell_type": "markdown",
   "metadata": {},
   "source": [
    "### 1.11 Purchase Orders"
   ]
  },
  {
   "cell_type": "code",
   "execution_count": 232,
   "metadata": {},
   "outputs": [
    {
     "data": {
      "text/html": [
       "<div>\n",
       "<style scoped>\n",
       "    .dataframe tbody tr th:only-of-type {\n",
       "        vertical-align: middle;\n",
       "    }\n",
       "\n",
       "    .dataframe tbody tr th {\n",
       "        vertical-align: top;\n",
       "    }\n",
       "\n",
       "    .dataframe thead th {\n",
       "        text-align: right;\n",
       "    }\n",
       "</style>\n",
       "<table border=\"1\" class=\"dataframe\">\n",
       "  <thead>\n",
       "    <tr style=\"text-align: right;\">\n",
       "      <th></th>\n",
       "      <th>PurchaseOrderID</th>\n",
       "      <th>SupplierID</th>\n",
       "      <th>EmployeeID</th>\n",
       "      <th>ShippingMethodID</th>\n",
       "      <th>OrderDate</th>\n",
       "    </tr>\n",
       "  </thead>\n",
       "  <tbody>\n",
       "    <tr>\n",
       "      <th>0</th>\n",
       "      <td>25</td>\n",
       "      <td>1</td>\n",
       "      <td>1</td>\n",
       "      <td>3.0</td>\n",
       "      <td>10/15/2003</td>\n",
       "    </tr>\n",
       "    <tr>\n",
       "      <th>1</th>\n",
       "      <td>27</td>\n",
       "      <td>1</td>\n",
       "      <td>1</td>\n",
       "      <td>3.0</td>\n",
       "      <td>9/16/2003</td>\n",
       "    </tr>\n",
       "    <tr>\n",
       "      <th>2</th>\n",
       "      <td>28</td>\n",
       "      <td>1</td>\n",
       "      <td>1</td>\n",
       "      <td>3.0</td>\n",
       "      <td>9/17/2003</td>\n",
       "    </tr>\n",
       "    <tr>\n",
       "      <th>3</th>\n",
       "      <td>29</td>\n",
       "      <td>1</td>\n",
       "      <td>1</td>\n",
       "      <td>3.0</td>\n",
       "      <td>9/17/2003</td>\n",
       "    </tr>\n",
       "    <tr>\n",
       "      <th>4</th>\n",
       "      <td>30</td>\n",
       "      <td>1</td>\n",
       "      <td>1</td>\n",
       "      <td>3.0</td>\n",
       "      <td>9/17/2003</td>\n",
       "    </tr>\n",
       "    <tr>\n",
       "      <th>...</th>\n",
       "      <td>...</td>\n",
       "      <td>...</td>\n",
       "      <td>...</td>\n",
       "      <td>...</td>\n",
       "      <td>...</td>\n",
       "    </tr>\n",
       "    <tr>\n",
       "      <th>227</th>\n",
       "      <td>311</td>\n",
       "      <td>1</td>\n",
       "      <td>15</td>\n",
       "      <td>2.0</td>\n",
       "      <td>3/20/2006</td>\n",
       "    </tr>\n",
       "    <tr>\n",
       "      <th>228</th>\n",
       "      <td>312</td>\n",
       "      <td>1</td>\n",
       "      <td>15</td>\n",
       "      <td>2.0</td>\n",
       "      <td>3/20/2006</td>\n",
       "    </tr>\n",
       "    <tr>\n",
       "      <th>229</th>\n",
       "      <td>313</td>\n",
       "      <td>1</td>\n",
       "      <td>15</td>\n",
       "      <td>2.0</td>\n",
       "      <td>3/21/2006</td>\n",
       "    </tr>\n",
       "    <tr>\n",
       "      <th>230</th>\n",
       "      <td>314</td>\n",
       "      <td>1</td>\n",
       "      <td>15</td>\n",
       "      <td>2.0</td>\n",
       "      <td>3/22/2006</td>\n",
       "    </tr>\n",
       "    <tr>\n",
       "      <th>231</th>\n",
       "      <td>315</td>\n",
       "      <td>1</td>\n",
       "      <td>1</td>\n",
       "      <td>2.0</td>\n",
       "      <td>4/5/2006</td>\n",
       "    </tr>\n",
       "  </tbody>\n",
       "</table>\n",
       "<p>232 rows × 5 columns</p>\n",
       "</div>"
      ],
      "text/plain": [
       "     PurchaseOrderID  SupplierID  EmployeeID  ShippingMethodID   OrderDate\n",
       "0                 25           1           1               3.0  10/15/2003\n",
       "1                 27           1           1               3.0   9/16/2003\n",
       "2                 28           1           1               3.0   9/17/2003\n",
       "3                 29           1           1               3.0   9/17/2003\n",
       "4                 30           1           1               3.0   9/17/2003\n",
       "..               ...         ...         ...               ...         ...\n",
       "227              311           1          15               2.0   3/20/2006\n",
       "228              312           1          15               2.0   3/20/2006\n",
       "229              313           1          15               2.0   3/21/2006\n",
       "230              314           1          15               2.0   3/22/2006\n",
       "231              315           1           1               2.0    4/5/2006\n",
       "\n",
       "[232 rows x 5 columns]"
      ]
     },
     "execution_count": 232,
     "metadata": {},
     "output_type": "execute_result"
    }
   ],
   "source": [
    "df_purchase_orders"
   ]
  },
  {
   "cell_type": "code",
   "execution_count": 233,
   "metadata": {},
   "outputs": [
    {
     "name": "stdout",
     "output_type": "stream",
     "text": [
      "There are 232 of purchase orders\n",
      "-----------------------\n",
      "\n",
      "Null values: \n",
      "\n",
      "PurchaseOrderID     0\n",
      "SupplierID          0\n",
      "EmployeeID          0\n",
      "ShippingMethodID    5\n",
      "OrderDate           0\n",
      "dtype: int64\n",
      "-----------------------\n",
      "\n",
      "Number duplicated rows: 0\n",
      "\n",
      "-----------------------\n",
      "\n",
      "PurchaseOrderID     232\n",
      "SupplierID            2\n",
      "EmployeeID            6\n",
      "ShippingMethodID      3\n",
      "OrderDate           138\n",
      "dtype: int64\n",
      "-----------------------\n",
      "\n",
      "Description: \n",
      "       PurchaseOrderID  SupplierID  EmployeeID  ShippingMethodID\n",
      "count       232.000000  232.000000  232.000000        227.000000\n",
      "mean        174.025862    1.030172    6.931034          2.140969\n",
      "std          84.287691    0.171431    5.008606          0.373272\n",
      "min          25.000000    1.000000    1.000000          1.000000\n",
      "25%         103.750000    1.000000    3.000000          2.000000\n",
      "50%         175.500000    1.000000    6.000000          2.000000\n",
      "75%         247.250000    1.000000    6.000000          2.000000\n",
      "max         315.000000    2.000000   15.000000          3.000000\n",
      "-----------------------\n",
      "\n",
      "PurchaseOrderID       int64\n",
      "SupplierID            int64\n",
      "EmployeeID            int64\n",
      "ShippingMethodID    float64\n",
      "OrderDate            object\n",
      "dtype: object\n"
     ]
    }
   ],
   "source": [
    "f.analysis_data(df_purchase_orders, \"purchase orders\")"
   ]
  },
  {
   "cell_type": "code",
   "execution_count": 234,
   "metadata": {},
   "outputs": [
    {
     "name": "stderr",
     "output_type": "stream",
     "text": [
      "C:\\Users\\Carlota\\AppData\\Local\\Temp\\ipykernel_16100\\2365127855.py:7: SettingWithCopyWarning: \n",
      "A value is trying to be set on a copy of a slice from a DataFrame.\n",
      "Try using .loc[row_indexer,col_indexer] = value instead\n",
      "\n",
      "See the caveats in the documentation: https://pandas.pydata.org/pandas-docs/stable/user_guide/indexing.html#returning-a-view-versus-a-copy\n",
      "  df_purchase_orders['ShippingMethodID'] = df_purchase_orders['ShippingMethodID'].astype(int)\n"
     ]
    }
   ],
   "source": [
    "# drop null values \n",
    "\n",
    "df_purchase_orders = df_purchase_orders.dropna()\n",
    "\n",
    "# convert to int shipping method id\n",
    "\n",
    "df_purchase_orders['ShippingMethodID'] = df_purchase_orders['ShippingMethodID'].astype(int)"
   ]
  },
  {
   "cell_type": "code",
   "execution_count": 235,
   "metadata": {},
   "outputs": [],
   "source": [
    "# merge data\n",
    "\n",
    "df_purchase_orders = pd.merge(df_purchase_orders, df_shipping_methods, on = 'ShippingMethodID',how='inner')\n",
    "df_purchase_orders = pd.merge(df_purchase_orders, df_suppliers, on = 'SupplierID',how='inner')"
   ]
  },
  {
   "cell_type": "code",
   "execution_count": 236,
   "metadata": {},
   "outputs": [
    {
     "data": {
      "text/html": [
       "<div>\n",
       "<style scoped>\n",
       "    .dataframe tbody tr th:only-of-type {\n",
       "        vertical-align: middle;\n",
       "    }\n",
       "\n",
       "    .dataframe tbody tr th {\n",
       "        vertical-align: top;\n",
       "    }\n",
       "\n",
       "    .dataframe thead th {\n",
       "        text-align: right;\n",
       "    }\n",
       "</style>\n",
       "<table border=\"1\" class=\"dataframe\">\n",
       "  <thead>\n",
       "    <tr style=\"text-align: right;\">\n",
       "      <th></th>\n",
       "      <th>PurchaseOrderID</th>\n",
       "      <th>SupplierID</th>\n",
       "      <th>EmployeeID</th>\n",
       "      <th>ShippingMethodID</th>\n",
       "      <th>OrderDate</th>\n",
       "      <th>ShippingMethod</th>\n",
       "      <th>SupplierName</th>\n",
       "    </tr>\n",
       "  </thead>\n",
       "  <tbody>\n",
       "    <tr>\n",
       "      <th>0</th>\n",
       "      <td>25</td>\n",
       "      <td>1</td>\n",
       "      <td>1</td>\n",
       "      <td>3</td>\n",
       "      <td>10/15/2003</td>\n",
       "      <td>Container</td>\n",
       "      <td>S1</td>\n",
       "    </tr>\n",
       "    <tr>\n",
       "      <th>1</th>\n",
       "      <td>27</td>\n",
       "      <td>1</td>\n",
       "      <td>1</td>\n",
       "      <td>3</td>\n",
       "      <td>9/16/2003</td>\n",
       "      <td>Container</td>\n",
       "      <td>S1</td>\n",
       "    </tr>\n",
       "    <tr>\n",
       "      <th>2</th>\n",
       "      <td>28</td>\n",
       "      <td>1</td>\n",
       "      <td>1</td>\n",
       "      <td>3</td>\n",
       "      <td>9/17/2003</td>\n",
       "      <td>Container</td>\n",
       "      <td>S1</td>\n",
       "    </tr>\n",
       "    <tr>\n",
       "      <th>3</th>\n",
       "      <td>29</td>\n",
       "      <td>1</td>\n",
       "      <td>1</td>\n",
       "      <td>3</td>\n",
       "      <td>9/17/2003</td>\n",
       "      <td>Container</td>\n",
       "      <td>S1</td>\n",
       "    </tr>\n",
       "    <tr>\n",
       "      <th>4</th>\n",
       "      <td>30</td>\n",
       "      <td>1</td>\n",
       "      <td>1</td>\n",
       "      <td>3</td>\n",
       "      <td>9/17/2003</td>\n",
       "      <td>Container</td>\n",
       "      <td>S1</td>\n",
       "    </tr>\n",
       "    <tr>\n",
       "      <th>...</th>\n",
       "      <td>...</td>\n",
       "      <td>...</td>\n",
       "      <td>...</td>\n",
       "      <td>...</td>\n",
       "      <td>...</td>\n",
       "      <td>...</td>\n",
       "      <td>...</td>\n",
       "    </tr>\n",
       "    <tr>\n",
       "      <th>222</th>\n",
       "      <td>311</td>\n",
       "      <td>1</td>\n",
       "      <td>15</td>\n",
       "      <td>2</td>\n",
       "      <td>3/20/2006</td>\n",
       "      <td>Door to Door Service</td>\n",
       "      <td>S1</td>\n",
       "    </tr>\n",
       "    <tr>\n",
       "      <th>223</th>\n",
       "      <td>312</td>\n",
       "      <td>1</td>\n",
       "      <td>15</td>\n",
       "      <td>2</td>\n",
       "      <td>3/20/2006</td>\n",
       "      <td>Door to Door Service</td>\n",
       "      <td>S1</td>\n",
       "    </tr>\n",
       "    <tr>\n",
       "      <th>224</th>\n",
       "      <td>313</td>\n",
       "      <td>1</td>\n",
       "      <td>15</td>\n",
       "      <td>2</td>\n",
       "      <td>3/21/2006</td>\n",
       "      <td>Door to Door Service</td>\n",
       "      <td>S1</td>\n",
       "    </tr>\n",
       "    <tr>\n",
       "      <th>225</th>\n",
       "      <td>314</td>\n",
       "      <td>1</td>\n",
       "      <td>15</td>\n",
       "      <td>2</td>\n",
       "      <td>3/22/2006</td>\n",
       "      <td>Door to Door Service</td>\n",
       "      <td>S1</td>\n",
       "    </tr>\n",
       "    <tr>\n",
       "      <th>226</th>\n",
       "      <td>315</td>\n",
       "      <td>1</td>\n",
       "      <td>1</td>\n",
       "      <td>2</td>\n",
       "      <td>4/5/2006</td>\n",
       "      <td>Door to Door Service</td>\n",
       "      <td>S1</td>\n",
       "    </tr>\n",
       "  </tbody>\n",
       "</table>\n",
       "<p>227 rows × 7 columns</p>\n",
       "</div>"
      ],
      "text/plain": [
       "     PurchaseOrderID  SupplierID  EmployeeID  ShippingMethodID   OrderDate  \\\n",
       "0                 25           1           1                 3  10/15/2003   \n",
       "1                 27           1           1                 3   9/16/2003   \n",
       "2                 28           1           1                 3   9/17/2003   \n",
       "3                 29           1           1                 3   9/17/2003   \n",
       "4                 30           1           1                 3   9/17/2003   \n",
       "..               ...         ...         ...               ...         ...   \n",
       "222              311           1          15                 2   3/20/2006   \n",
       "223              312           1          15                 2   3/20/2006   \n",
       "224              313           1          15                 2   3/21/2006   \n",
       "225              314           1          15                 2   3/22/2006   \n",
       "226              315           1           1                 2    4/5/2006   \n",
       "\n",
       "           ShippingMethod SupplierName  \n",
       "0               Container           S1  \n",
       "1               Container           S1  \n",
       "2               Container           S1  \n",
       "3               Container           S1  \n",
       "4               Container           S1  \n",
       "..                    ...          ...  \n",
       "222  Door to Door Service           S1  \n",
       "223  Door to Door Service           S1  \n",
       "224  Door to Door Service           S1  \n",
       "225  Door to Door Service           S1  \n",
       "226  Door to Door Service           S1  \n",
       "\n",
       "[227 rows x 7 columns]"
      ]
     },
     "execution_count": 236,
     "metadata": {},
     "output_type": "execute_result"
    }
   ],
   "source": [
    "df_purchase_orders"
   ]
  },
  {
   "cell_type": "code",
   "execution_count": 237,
   "metadata": {},
   "outputs": [],
   "source": [
    "df_purchase_orders = df_purchase_orders.drop(columns=['SupplierID', 'ShippingMethodID'])"
   ]
  },
  {
   "cell_type": "code",
   "execution_count": 238,
   "metadata": {},
   "outputs": [
    {
     "data": {
      "text/html": [
       "<div>\n",
       "<style scoped>\n",
       "    .dataframe tbody tr th:only-of-type {\n",
       "        vertical-align: middle;\n",
       "    }\n",
       "\n",
       "    .dataframe tbody tr th {\n",
       "        vertical-align: top;\n",
       "    }\n",
       "\n",
       "    .dataframe thead th {\n",
       "        text-align: right;\n",
       "    }\n",
       "</style>\n",
       "<table border=\"1\" class=\"dataframe\">\n",
       "  <thead>\n",
       "    <tr style=\"text-align: right;\">\n",
       "      <th></th>\n",
       "      <th>PurchaseOrderID</th>\n",
       "      <th>EmployeeID</th>\n",
       "      <th>OrderDate</th>\n",
       "      <th>ShippingMethod</th>\n",
       "      <th>SupplierName</th>\n",
       "    </tr>\n",
       "  </thead>\n",
       "  <tbody>\n",
       "    <tr>\n",
       "      <th>0</th>\n",
       "      <td>25</td>\n",
       "      <td>1</td>\n",
       "      <td>10/15/2003</td>\n",
       "      <td>Container</td>\n",
       "      <td>S1</td>\n",
       "    </tr>\n",
       "    <tr>\n",
       "      <th>1</th>\n",
       "      <td>27</td>\n",
       "      <td>1</td>\n",
       "      <td>9/16/2003</td>\n",
       "      <td>Container</td>\n",
       "      <td>S1</td>\n",
       "    </tr>\n",
       "    <tr>\n",
       "      <th>2</th>\n",
       "      <td>28</td>\n",
       "      <td>1</td>\n",
       "      <td>9/17/2003</td>\n",
       "      <td>Container</td>\n",
       "      <td>S1</td>\n",
       "    </tr>\n",
       "    <tr>\n",
       "      <th>3</th>\n",
       "      <td>29</td>\n",
       "      <td>1</td>\n",
       "      <td>9/17/2003</td>\n",
       "      <td>Container</td>\n",
       "      <td>S1</td>\n",
       "    </tr>\n",
       "    <tr>\n",
       "      <th>4</th>\n",
       "      <td>30</td>\n",
       "      <td>1</td>\n",
       "      <td>9/17/2003</td>\n",
       "      <td>Container</td>\n",
       "      <td>S1</td>\n",
       "    </tr>\n",
       "    <tr>\n",
       "      <th>...</th>\n",
       "      <td>...</td>\n",
       "      <td>...</td>\n",
       "      <td>...</td>\n",
       "      <td>...</td>\n",
       "      <td>...</td>\n",
       "    </tr>\n",
       "    <tr>\n",
       "      <th>222</th>\n",
       "      <td>311</td>\n",
       "      <td>15</td>\n",
       "      <td>3/20/2006</td>\n",
       "      <td>Door to Door Service</td>\n",
       "      <td>S1</td>\n",
       "    </tr>\n",
       "    <tr>\n",
       "      <th>223</th>\n",
       "      <td>312</td>\n",
       "      <td>15</td>\n",
       "      <td>3/20/2006</td>\n",
       "      <td>Door to Door Service</td>\n",
       "      <td>S1</td>\n",
       "    </tr>\n",
       "    <tr>\n",
       "      <th>224</th>\n",
       "      <td>313</td>\n",
       "      <td>15</td>\n",
       "      <td>3/21/2006</td>\n",
       "      <td>Door to Door Service</td>\n",
       "      <td>S1</td>\n",
       "    </tr>\n",
       "    <tr>\n",
       "      <th>225</th>\n",
       "      <td>314</td>\n",
       "      <td>15</td>\n",
       "      <td>3/22/2006</td>\n",
       "      <td>Door to Door Service</td>\n",
       "      <td>S1</td>\n",
       "    </tr>\n",
       "    <tr>\n",
       "      <th>226</th>\n",
       "      <td>315</td>\n",
       "      <td>1</td>\n",
       "      <td>4/5/2006</td>\n",
       "      <td>Door to Door Service</td>\n",
       "      <td>S1</td>\n",
       "    </tr>\n",
       "  </tbody>\n",
       "</table>\n",
       "<p>227 rows × 5 columns</p>\n",
       "</div>"
      ],
      "text/plain": [
       "     PurchaseOrderID  EmployeeID   OrderDate        ShippingMethod  \\\n",
       "0                 25           1  10/15/2003             Container   \n",
       "1                 27           1   9/16/2003             Container   \n",
       "2                 28           1   9/17/2003             Container   \n",
       "3                 29           1   9/17/2003             Container   \n",
       "4                 30           1   9/17/2003             Container   \n",
       "..               ...         ...         ...                   ...   \n",
       "222              311          15   3/20/2006  Door to Door Service   \n",
       "223              312          15   3/20/2006  Door to Door Service   \n",
       "224              313          15   3/21/2006  Door to Door Service   \n",
       "225              314          15   3/22/2006  Door to Door Service   \n",
       "226              315           1    4/5/2006  Door to Door Service   \n",
       "\n",
       "    SupplierName  \n",
       "0             S1  \n",
       "1             S1  \n",
       "2             S1  \n",
       "3             S1  \n",
       "4             S1  \n",
       "..           ...  \n",
       "222           S1  \n",
       "223           S1  \n",
       "224           S1  \n",
       "225           S1  \n",
       "226           S1  \n",
       "\n",
       "[227 rows x 5 columns]"
      ]
     },
     "execution_count": 238,
     "metadata": {},
     "output_type": "execute_result"
    }
   ],
   "source": [
    "df_purchase_orders"
   ]
  },
  {
   "cell_type": "markdown",
   "metadata": {},
   "source": [
    "## 2. Save clean data"
   ]
  },
  {
   "cell_type": "code",
   "execution_count": 242,
   "metadata": {},
   "outputs": [],
   "source": [
    "df_total_payments.to_csv(\"../Datasets/clean_total_payments.csv\")\n",
    "df_purchase_orders.to_csv(\"../Datasets/clean_purchase_orders.csv\")\n",
    "df_customer.to_csv(\"../Datasets/clean_customer.csv\")\n",
    "df_employees.to_csv(\"../Datasets/clean_employees.csv\")\n",
    "df_inventory.to_csv(\"../Datasets/clean_inventory.csv\")\n",
    "df_order_details.to_csv(\"../Datasets/clean_order_details.csv\")\n",
    "df_orders.to_csv(\"../Datasets/clean_orders.csv\")\n",
    "df_products.to_csv(\"../Datasets/clean_products.csv\")\n"
   ]
  }
 ],
 "metadata": {
  "kernelspec": {
   "display_name": "Python 3",
   "language": "python",
   "name": "python3"
  },
  "language_info": {
   "codemirror_mode": {
    "name": "ipython",
    "version": 3
   },
   "file_extension": ".py",
   "mimetype": "text/x-python",
   "name": "python",
   "nbconvert_exporter": "python",
   "pygments_lexer": "ipython3",
   "version": "3.13.0"
  }
 },
 "nbformat": 4,
 "nbformat_minor": 2
}
