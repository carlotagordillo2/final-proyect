{
 "cells": [
  {
   "cell_type": "markdown",
   "metadata": {},
   "source": [
    "## Libraries"
   ]
  },
  {
   "cell_type": "code",
   "execution_count": 44,
   "metadata": {},
   "outputs": [],
   "source": [
    "import pandas as pd\n",
    "import numpy as np\n",
    "import seaborn as sns\n",
    "import matplotlib.pyplot as plt\n",
    "import aux_functions as f"
   ]
  },
  {
   "cell_type": "markdown",
   "metadata": {},
   "source": [
    "## 0. Import data"
   ]
  },
  {
   "cell_type": "markdown",
   "metadata": {},
   "source": [
    "![Descripción de la imagen](../Datasets/diagrama_entidad_relacion.png)"
   ]
  },
  {
   "cell_type": "code",
   "execution_count": 18,
   "metadata": {},
   "outputs": [],
   "source": [
    "df_customer = pd.read_csv(\"../Datasets/customers_1.txt\")\n",
    "df_employees = pd.read_csv(\"../Datasets/employees_1.txt\")\n",
    "df_inventory = pd.read_csv(\"../Datasets/inventory_transactions_1.txt\")\n",
    "df_order_details = pd.read_csv(\"../Datasets/order_details_1.txt\")\n",
    "df_orders = pd.read_csv(\"../Datasets/orders_1.txt\")\n",
    "df_payment_methods = pd.read_csv(\"../Datasets/payment_methods_1.txt\")\n",
    "df_payments = pd.read_csv(\"../Datasets/payments_1.txt\")\n",
    "df_products = pd.read_csv(\"../Datasets/products_1.txt\")\n",
    "df_purchase_orders = pd.read_csv(\"../Datasets/purchase_orders_1.txt\")\n",
    "df_shipping_methods = pd.read_csv(\"../Datasets/shipping_methods_1.txt\")\n",
    "df_suppliers = pd.read_csv(\"../Datasets/suppliers_1.txt\")"
   ]
  },
  {
   "cell_type": "markdown",
   "metadata": {},
   "source": [
    "## 1. Cleaning and review"
   ]
  },
  {
   "cell_type": "markdown",
   "metadata": {},
   "source": [
    "### 1.1 Customers"
   ]
  },
  {
   "cell_type": "markdown",
   "metadata": {},
   "source": [
    "Summary:\n",
    "- There are 225 customer\n",
    "- Origin: Russian Federation and Belarus. Specially, from 87 regions.\n",
    "- These customers can be classified by: Price Category (there are 7; 1-7), Customer Class ('Large-Scale Wholesaler-1', 'Consumer', 'Retailer',\n",
    "       'Small-Scale Wholesaler', 'Large-Scale Wholesaler-2', 'Branch',\n",
    "       'HyPermarket'), Lead Source ('Referral by the Central Office', 'Other',\n",
    "       'Advertisement in National Wholesale Magazine',\n",
    "       'Sales Calls or Visits', 'Trade Shows',\n",
    "       'Referral by Third Parties', nan, 'Organic Search',\n",
    "       'Advertisement in Regional Wholesaler Magazine') and if they are continued or not"
   ]
  },
  {
   "cell_type": "markdown",
   "metadata": {},
   "source": [
    "No se si eliminar los que tienen valores nulos en leadSource (son 4)"
   ]
  },
  {
   "cell_type": "code",
   "execution_count": 19,
   "metadata": {},
   "outputs": [
    {
     "data": {
      "text/html": [
       "<div>\n",
       "<style scoped>\n",
       "    .dataframe tbody tr th:only-of-type {\n",
       "        vertical-align: middle;\n",
       "    }\n",
       "\n",
       "    .dataframe tbody tr th {\n",
       "        vertical-align: top;\n",
       "    }\n",
       "\n",
       "    .dataframe thead th {\n",
       "        text-align: right;\n",
       "    }\n",
       "</style>\n",
       "<table border=\"1\" class=\"dataframe\">\n",
       "  <thead>\n",
       "    <tr style=\"text-align: right;\">\n",
       "      <th></th>\n",
       "      <th>CustomerID</th>\n",
       "      <th>CustomerName</th>\n",
       "      <th>Region</th>\n",
       "      <th>Country</th>\n",
       "      <th>PriceCategory</th>\n",
       "      <th>CustomerClass</th>\n",
       "      <th>LeadSource</th>\n",
       "      <th>Discontinued</th>\n",
       "    </tr>\n",
       "  </thead>\n",
       "  <tbody>\n",
       "    <tr>\n",
       "      <th>0</th>\n",
       "      <td>1</td>\n",
       "      <td>C1</td>\n",
       "      <td>Moscow</td>\n",
       "      <td>Russian Federation</td>\n",
       "      <td>1</td>\n",
       "      <td>Large-Scale Wholesaler-1</td>\n",
       "      <td>Referral by the Central Office</td>\n",
       "      <td>0</td>\n",
       "    </tr>\n",
       "    <tr>\n",
       "      <th>1</th>\n",
       "      <td>2</td>\n",
       "      <td>C2</td>\n",
       "      <td>Moscow</td>\n",
       "      <td>Russian Federation</td>\n",
       "      <td>1</td>\n",
       "      <td>Large-Scale Wholesaler-1</td>\n",
       "      <td>Referral by the Central Office</td>\n",
       "      <td>0</td>\n",
       "    </tr>\n",
       "    <tr>\n",
       "      <th>2</th>\n",
       "      <td>3</td>\n",
       "      <td>C3</td>\n",
       "      <td>Moscow</td>\n",
       "      <td>Russian Federation</td>\n",
       "      <td>1</td>\n",
       "      <td>Large-Scale Wholesaler-1</td>\n",
       "      <td>Referral by the Central Office</td>\n",
       "      <td>1</td>\n",
       "    </tr>\n",
       "    <tr>\n",
       "      <th>3</th>\n",
       "      <td>4</td>\n",
       "      <td>C4</td>\n",
       "      <td>Moscow</td>\n",
       "      <td>Russian Federation</td>\n",
       "      <td>4</td>\n",
       "      <td>Large-Scale Wholesaler-1</td>\n",
       "      <td>Referral by the Central Office</td>\n",
       "      <td>1</td>\n",
       "    </tr>\n",
       "    <tr>\n",
       "      <th>4</th>\n",
       "      <td>5</td>\n",
       "      <td>C5</td>\n",
       "      <td>Moscow</td>\n",
       "      <td>Russian Federation</td>\n",
       "      <td>1</td>\n",
       "      <td>Large-Scale Wholesaler-1</td>\n",
       "      <td>Referral by the Central Office</td>\n",
       "      <td>0</td>\n",
       "    </tr>\n",
       "    <tr>\n",
       "      <th>...</th>\n",
       "      <td>...</td>\n",
       "      <td>...</td>\n",
       "      <td>...</td>\n",
       "      <td>...</td>\n",
       "      <td>...</td>\n",
       "      <td>...</td>\n",
       "      <td>...</td>\n",
       "      <td>...</td>\n",
       "    </tr>\n",
       "    <tr>\n",
       "      <th>220</th>\n",
       "      <td>243</td>\n",
       "      <td>C221</td>\n",
       "      <td>Vologda</td>\n",
       "      <td>Russian Federation</td>\n",
       "      <td>4</td>\n",
       "      <td>Small-Scale Wholesaler</td>\n",
       "      <td>Advertisement in National Wholesale Magazine</td>\n",
       "      <td>0</td>\n",
       "    </tr>\n",
       "    <tr>\n",
       "      <th>221</th>\n",
       "      <td>244</td>\n",
       "      <td>C222</td>\n",
       "      <td>Yakutsk</td>\n",
       "      <td>Russian Federation</td>\n",
       "      <td>4</td>\n",
       "      <td>Small-Scale Wholesaler</td>\n",
       "      <td>Advertisement in National Wholesale Magazine</td>\n",
       "      <td>0</td>\n",
       "    </tr>\n",
       "    <tr>\n",
       "      <th>222</th>\n",
       "      <td>245</td>\n",
       "      <td>C223</td>\n",
       "      <td>Nizhny Novgorod</td>\n",
       "      <td>Russian Federation</td>\n",
       "      <td>5</td>\n",
       "      <td>Retailer</td>\n",
       "      <td>Sales Calls or Visits</td>\n",
       "      <td>0</td>\n",
       "    </tr>\n",
       "    <tr>\n",
       "      <th>223</th>\n",
       "      <td>246</td>\n",
       "      <td>C224</td>\n",
       "      <td>Kemerovo</td>\n",
       "      <td>Russian Federation</td>\n",
       "      <td>4</td>\n",
       "      <td>Small-Scale Wholesaler</td>\n",
       "      <td>Sales Calls or Visits</td>\n",
       "      <td>0</td>\n",
       "    </tr>\n",
       "    <tr>\n",
       "      <th>224</th>\n",
       "      <td>247</td>\n",
       "      <td>C225</td>\n",
       "      <td>Moscow</td>\n",
       "      <td>Russian Federation</td>\n",
       "      <td>4</td>\n",
       "      <td>Small-Scale Wholesaler</td>\n",
       "      <td>Sales Calls or Visits</td>\n",
       "      <td>0</td>\n",
       "    </tr>\n",
       "  </tbody>\n",
       "</table>\n",
       "<p>225 rows × 8 columns</p>\n",
       "</div>"
      ],
      "text/plain": [
       "     CustomerID CustomerName           Region             Country  \\\n",
       "0             1           C1           Moscow  Russian Federation   \n",
       "1             2           C2           Moscow  Russian Federation   \n",
       "2             3           C3           Moscow  Russian Federation   \n",
       "3             4           C4           Moscow  Russian Federation   \n",
       "4             5           C5           Moscow  Russian Federation   \n",
       "..          ...          ...              ...                 ...   \n",
       "220         243         C221          Vologda  Russian Federation   \n",
       "221         244         C222          Yakutsk  Russian Federation   \n",
       "222         245         C223  Nizhny Novgorod  Russian Federation   \n",
       "223         246         C224         Kemerovo  Russian Federation   \n",
       "224         247         C225           Moscow  Russian Federation   \n",
       "\n",
       "     PriceCategory             CustomerClass  \\\n",
       "0                1  Large-Scale Wholesaler-1   \n",
       "1                1  Large-Scale Wholesaler-1   \n",
       "2                1  Large-Scale Wholesaler-1   \n",
       "3                4  Large-Scale Wholesaler-1   \n",
       "4                1  Large-Scale Wholesaler-1   \n",
       "..             ...                       ...   \n",
       "220              4    Small-Scale Wholesaler   \n",
       "221              4    Small-Scale Wholesaler   \n",
       "222              5                  Retailer   \n",
       "223              4    Small-Scale Wholesaler   \n",
       "224              4    Small-Scale Wholesaler   \n",
       "\n",
       "                                       LeadSource  Discontinued  \n",
       "0                  Referral by the Central Office             0  \n",
       "1                  Referral by the Central Office             0  \n",
       "2                  Referral by the Central Office             1  \n",
       "3                  Referral by the Central Office             1  \n",
       "4                  Referral by the Central Office             0  \n",
       "..                                            ...           ...  \n",
       "220  Advertisement in National Wholesale Magazine             0  \n",
       "221  Advertisement in National Wholesale Magazine             0  \n",
       "222                         Sales Calls or Visits             0  \n",
       "223                         Sales Calls or Visits             0  \n",
       "224                         Sales Calls or Visits             0  \n",
       "\n",
       "[225 rows x 8 columns]"
      ]
     },
     "execution_count": 19,
     "metadata": {},
     "output_type": "execute_result"
    }
   ],
   "source": [
    "df_customer"
   ]
  },
  {
   "cell_type": "code",
   "execution_count": 55,
   "metadata": {},
   "outputs": [
    {
     "ename": "AttributeError",
     "evalue": "module 'aux_functions' has no attribute 'analysis_data'",
     "output_type": "error",
     "traceback": [
      "\u001b[1;31m---------------------------------------------------------------------------\u001b[0m",
      "\u001b[1;31mAttributeError\u001b[0m                            Traceback (most recent call last)",
      "Cell \u001b[1;32mIn[55], line 1\u001b[0m\n\u001b[1;32m----> 1\u001b[0m \u001b[43mf\u001b[49m\u001b[38;5;241;43m.\u001b[39;49m\u001b[43manalysis_data\u001b[49m(df_customer, \u001b[38;5;124m\"\u001b[39m\u001b[38;5;124mcustomer\u001b[39m\u001b[38;5;124m\"\u001b[39m)\n",
      "\u001b[1;31mAttributeError\u001b[0m: module 'aux_functions' has no attribute 'analysis_data'"
     ]
    }
   ],
   "source": [
    "f.analysis_data(df_customer, \"customer\")"
   ]
  },
  {
   "cell_type": "code",
   "execution_count": 46,
   "metadata": {},
   "outputs": [
    {
     "data": {
      "text/plain": [
       "array(['Russian Federation', 'Belarus'], dtype=object)"
      ]
     },
     "execution_count": 46,
     "metadata": {},
     "output_type": "execute_result"
    }
   ],
   "source": [
    "df_customer['Country'].unique()"
   ]
  },
  {
   "cell_type": "code",
   "execution_count": 49,
   "metadata": {},
   "outputs": [
    {
     "data": {
      "text/plain": [
       "87"
      ]
     },
     "execution_count": 49,
     "metadata": {},
     "output_type": "execute_result"
    }
   ],
   "source": [
    "df_customer['Region'].nunique()"
   ]
  },
  {
   "cell_type": "code",
   "execution_count": 50,
   "metadata": {},
   "outputs": [
    {
     "data": {
      "text/plain": [
       "array([1, 4, 5, 2, 7, 6, 3])"
      ]
     },
     "execution_count": 50,
     "metadata": {},
     "output_type": "execute_result"
    }
   ],
   "source": [
    "df_customer['PriceCategory'].unique()"
   ]
  },
  {
   "cell_type": "code",
   "execution_count": 51,
   "metadata": {},
   "outputs": [
    {
     "data": {
      "text/plain": [
       "array(['Large-Scale Wholesaler-1', 'Consumer', 'Retailer',\n",
       "       'Small-Scale Wholesaler', 'Large-Scale Wholesaler-2', 'Branch',\n",
       "       'HyPermarket'], dtype=object)"
      ]
     },
     "execution_count": 51,
     "metadata": {},
     "output_type": "execute_result"
    }
   ],
   "source": [
    "df_customer['CustomerClass'].unique()"
   ]
  },
  {
   "cell_type": "code",
   "execution_count": 52,
   "metadata": {},
   "outputs": [
    {
     "data": {
      "text/plain": [
       "array(['Referral by the Central Office', 'Other',\n",
       "       'Advertisement in National Wholesale Magazine',\n",
       "       'Sales Calls or Visits', 'Trade Shows',\n",
       "       'Referral by Third Parties', nan, 'Organic Search',\n",
       "       'Advertisement in Regional Wholesaler Magazine'], dtype=object)"
      ]
     },
     "execution_count": 52,
     "metadata": {},
     "output_type": "execute_result"
    }
   ],
   "source": [
    "df_customer['LeadSource'].unique()"
   ]
  },
  {
   "cell_type": "code",
   "execution_count": 54,
   "metadata": {},
   "outputs": [
    {
     "data": {
      "text/plain": [
       "array([0, 1])"
      ]
     },
     "execution_count": 54,
     "metadata": {},
     "output_type": "execute_result"
    }
   ],
   "source": [
    "df_customer['Discontinued'].unique()"
   ]
  },
  {
   "cell_type": "markdown",
   "metadata": {},
   "source": [
    "### 1.2 Employees"
   ]
  },
  {
   "cell_type": "code",
   "execution_count": 20,
   "metadata": {},
   "outputs": [
    {
     "data": {
      "text/html": [
       "<div>\n",
       "<style scoped>\n",
       "    .dataframe tbody tr th:only-of-type {\n",
       "        vertical-align: middle;\n",
       "    }\n",
       "\n",
       "    .dataframe tbody tr th {\n",
       "        vertical-align: top;\n",
       "    }\n",
       "\n",
       "    .dataframe thead th {\n",
       "        text-align: right;\n",
       "    }\n",
       "</style>\n",
       "<table border=\"1\" class=\"dataframe\">\n",
       "  <thead>\n",
       "    <tr style=\"text-align: right;\">\n",
       "      <th></th>\n",
       "      <th>EmployeeID</th>\n",
       "      <th>EmployeeName</th>\n",
       "    </tr>\n",
       "  </thead>\n",
       "  <tbody>\n",
       "    <tr>\n",
       "      <th>0</th>\n",
       "      <td>1</td>\n",
       "      <td>E1</td>\n",
       "    </tr>\n",
       "    <tr>\n",
       "      <th>1</th>\n",
       "      <td>2</td>\n",
       "      <td>E2</td>\n",
       "    </tr>\n",
       "    <tr>\n",
       "      <th>2</th>\n",
       "      <td>3</td>\n",
       "      <td>E3</td>\n",
       "    </tr>\n",
       "    <tr>\n",
       "      <th>3</th>\n",
       "      <td>5</td>\n",
       "      <td>E4</td>\n",
       "    </tr>\n",
       "    <tr>\n",
       "      <th>4</th>\n",
       "      <td>6</td>\n",
       "      <td>E5</td>\n",
       "    </tr>\n",
       "    <tr>\n",
       "      <th>5</th>\n",
       "      <td>7</td>\n",
       "      <td>E6</td>\n",
       "    </tr>\n",
       "    <tr>\n",
       "      <th>6</th>\n",
       "      <td>8</td>\n",
       "      <td>E7</td>\n",
       "    </tr>\n",
       "    <tr>\n",
       "      <th>7</th>\n",
       "      <td>9</td>\n",
       "      <td>E8</td>\n",
       "    </tr>\n",
       "    <tr>\n",
       "      <th>8</th>\n",
       "      <td>10</td>\n",
       "      <td>E9</td>\n",
       "    </tr>\n",
       "    <tr>\n",
       "      <th>9</th>\n",
       "      <td>11</td>\n",
       "      <td>E10</td>\n",
       "    </tr>\n",
       "    <tr>\n",
       "      <th>10</th>\n",
       "      <td>12</td>\n",
       "      <td>E11</td>\n",
       "    </tr>\n",
       "    <tr>\n",
       "      <th>11</th>\n",
       "      <td>13</td>\n",
       "      <td>E12</td>\n",
       "    </tr>\n",
       "    <tr>\n",
       "      <th>12</th>\n",
       "      <td>14</td>\n",
       "      <td>E13</td>\n",
       "    </tr>\n",
       "    <tr>\n",
       "      <th>13</th>\n",
       "      <td>15</td>\n",
       "      <td>E14</td>\n",
       "    </tr>\n",
       "    <tr>\n",
       "      <th>14</th>\n",
       "      <td>16</td>\n",
       "      <td>E15</td>\n",
       "    </tr>\n",
       "  </tbody>\n",
       "</table>\n",
       "</div>"
      ],
      "text/plain": [
       "    EmployeeID EmployeeName\n",
       "0            1           E1\n",
       "1            2           E2\n",
       "2            3           E3\n",
       "3            5           E4\n",
       "4            6           E5\n",
       "5            7           E6\n",
       "6            8           E7\n",
       "7            9           E8\n",
       "8           10           E9\n",
       "9           11          E10\n",
       "10          12          E11\n",
       "11          13          E12\n",
       "12          14          E13\n",
       "13          15          E14\n",
       "14          16          E15"
      ]
     },
     "execution_count": 20,
     "metadata": {},
     "output_type": "execute_result"
    }
   ],
   "source": [
    "df_employees"
   ]
  },
  {
   "cell_type": "code",
   "execution_count": null,
   "metadata": {},
   "outputs": [],
   "source": []
  }
 ],
 "metadata": {
  "kernelspec": {
   "display_name": "Python 3",
   "language": "python",
   "name": "python3"
  },
  "language_info": {
   "codemirror_mode": {
    "name": "ipython",
    "version": 3
   },
   "file_extension": ".py",
   "mimetype": "text/x-python",
   "name": "python",
   "nbconvert_exporter": "python",
   "pygments_lexer": "ipython3",
   "version": "3.13.0"
  }
 },
 "nbformat": 4,
 "nbformat_minor": 2
}
