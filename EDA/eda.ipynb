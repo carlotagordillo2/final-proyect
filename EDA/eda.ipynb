{
 "cells": [
  {
   "cell_type": "markdown",
   "metadata": {},
   "source": [
    "## Import libraries"
   ]
  },
  {
   "cell_type": "code",
   "execution_count": 1,
   "metadata": {},
   "outputs": [],
   "source": [
    "import pandas as pd\n",
    "import matplotlib.pyplot as plt\n",
    "import seaborn as sns\n",
    "import numpy as np"
   ]
  },
  {
   "cell_type": "markdown",
   "metadata": {},
   "source": [
    "## 0.Read data"
   ]
  },
  {
   "cell_type": "code",
   "execution_count": 2,
   "metadata": {},
   "outputs": [],
   "source": [
    "df_total_payments = pd.read_csv(\"../Datasets/clean_total_payments.csv\")\n",
    "df_purchase_orders = pd.read_csv(\"../Datasets/clean_purchase_orders.csv\")\n",
    "df_customer = pd.read_csv(\"../Datasets/clean_customer.csv\")\n",
    "df_employees = pd.read_csv(\"../Datasets/clean_employees.csv\")\n",
    "df_inventory = pd.read_csv(\"../Datasets/clean_inventory.csv\")\n",
    "df_order_details = pd.read_csv(\"../Datasets/clean_order_details.csv\")\n",
    "df_orders = pd.read_csv(\"../Datasets/clean_orders.csv\")\n",
    "df_products = pd.read_csv(\"../Datasets/clean_products.csv\")"
   ]
  }
 ],
 "metadata": {
  "kernelspec": {
   "display_name": "Python 3",
   "language": "python",
   "name": "python3"
  },
  "language_info": {
   "codemirror_mode": {
    "name": "ipython",
    "version": 3
   },
   "file_extension": ".py",
   "mimetype": "text/x-python",
   "name": "python",
   "nbconvert_exporter": "python",
   "pygments_lexer": "ipython3",
   "version": "3.13.0"
  }
 },
 "nbformat": 4,
 "nbformat_minor": 2
}
